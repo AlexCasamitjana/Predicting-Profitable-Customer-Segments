{
 "cells": [
  {
   "cell_type": "code",
   "execution_count": 26,
   "metadata": {},
   "outputs": [],
   "source": [
    "import pandas as pd\n",
    "import numpy as np\n",
    "import seaborn as sns\n",
    "from sklearn.model_selection import train_test_split\n",
    "from sklearn import preprocessing\n",
    "from sklearn.linear_model import LogisticRegression\n",
    "from sklearn import svm\n",
    "from sklearn import metrics\n",
    "from sklearn.ensemble import RandomForestClassifier\n",
    "from matplotlib.pyplot import figure\n",
    "import matplotlib\n",
    "from sklearn.experimental import enable_hist_gradient_boosting\n",
    "from sklearn.ensemble import HistGradientBoostingClassifier"
   ]
  },
  {
   "cell_type": "code",
   "execution_count": 2,
   "metadata": {},
   "outputs": [],
   "source": [
    "pd.set_option('display.float_format', lambda x: '%.5f' % x)\n",
    "pd.set_option('precision', 12);\n",
    "\n",
    "\n",
    "def load_dataset(name):\n",
    "    dataset = pd.read_csv(name, header=0, delimiter=',')\n",
    "    return dataset\n",
    "\n",
    "\n",
    "dataset = load_dataset('customerTargeting.csv')\n",
    "data = dataset.values\n",
    "labels = dataset.columns.values"
   ]
  },
  {
   "cell_type": "code",
   "execution_count": 3,
   "metadata": {},
   "outputs": [
    {
     "data": {
      "text/html": [
       "<div>\n",
       "<style scoped>\n",
       "    .dataframe tbody tr th:only-of-type {\n",
       "        vertical-align: middle;\n",
       "    }\n",
       "\n",
       "    .dataframe tbody tr th {\n",
       "        vertical-align: top;\n",
       "    }\n",
       "\n",
       "    .dataframe thead th {\n",
       "        text-align: right;\n",
       "    }\n",
       "</style>\n",
       "<table border=\"1\" class=\"dataframe\">\n",
       "  <thead>\n",
       "    <tr style=\"text-align: right;\">\n",
       "      <th></th>\n",
       "      <th>g1_1</th>\n",
       "      <th>g1_2</th>\n",
       "      <th>g1_3</th>\n",
       "      <th>g1_4</th>\n",
       "      <th>g1_5</th>\n",
       "      <th>g1_6</th>\n",
       "      <th>g1_7</th>\n",
       "      <th>g1_8</th>\n",
       "      <th>g1_9</th>\n",
       "      <th>g1_10</th>\n",
       "      <th>...</th>\n",
       "      <th>c_20</th>\n",
       "      <th>c_21</th>\n",
       "      <th>c_22</th>\n",
       "      <th>c_23</th>\n",
       "      <th>c_24</th>\n",
       "      <th>c_25</th>\n",
       "      <th>c_26</th>\n",
       "      <th>c_27</th>\n",
       "      <th>c_28</th>\n",
       "      <th>target</th>\n",
       "    </tr>\n",
       "  </thead>\n",
       "  <tbody>\n",
       "    <tr>\n",
       "      <th>count</th>\n",
       "      <td>6620.00000</td>\n",
       "      <td>6620.00000</td>\n",
       "      <td>6620.00000</td>\n",
       "      <td>6620.00000</td>\n",
       "      <td>6620.00000</td>\n",
       "      <td>6620.00000</td>\n",
       "      <td>6620.00000</td>\n",
       "      <td>6620.00000</td>\n",
       "      <td>6620.00000</td>\n",
       "      <td>6620.00000</td>\n",
       "      <td>...</td>\n",
       "      <td>6620.00000</td>\n",
       "      <td>6620.00000</td>\n",
       "      <td>6620.00000</td>\n",
       "      <td>6620.00000</td>\n",
       "      <td>6620.00000</td>\n",
       "      <td>6620.00000</td>\n",
       "      <td>6620.00000</td>\n",
       "      <td>6620.00000</td>\n",
       "      <td>6620.00000</td>\n",
       "      <td>6620.00000</td>\n",
       "    </tr>\n",
       "    <tr>\n",
       "      <th>mean</th>\n",
       "      <td>2.70878</td>\n",
       "      <td>14.42402</td>\n",
       "      <td>10.48565</td>\n",
       "      <td>24.90967</td>\n",
       "      <td>10.98807</td>\n",
       "      <td>13.41208</td>\n",
       "      <td>10.16103</td>\n",
       "      <td>10.74547</td>\n",
       "      <td>14.16903</td>\n",
       "      <td>3.25106</td>\n",
       "      <td>...</td>\n",
       "      <td>-0.02931</td>\n",
       "      <td>-0.00672</td>\n",
       "      <td>-0.00415</td>\n",
       "      <td>0.00883</td>\n",
       "      <td>0.00000</td>\n",
       "      <td>-0.22843</td>\n",
       "      <td>-0.10373</td>\n",
       "      <td>0.00041</td>\n",
       "      <td>1.91713</td>\n",
       "      <td>1.03172</td>\n",
       "    </tr>\n",
       "    <tr>\n",
       "      <th>std</th>\n",
       "      <td>1.85772</td>\n",
       "      <td>10.70079</td>\n",
       "      <td>8.38420</td>\n",
       "      <td>18.17495</td>\n",
       "      <td>5.63598</td>\n",
       "      <td>10.09003</td>\n",
       "      <td>7.49504</td>\n",
       "      <td>7.96425</td>\n",
       "      <td>9.86673</td>\n",
       "      <td>8.48121</td>\n",
       "      <td>...</td>\n",
       "      <td>1.22075</td>\n",
       "      <td>1.06820</td>\n",
       "      <td>0.66324</td>\n",
       "      <td>0.68342</td>\n",
       "      <td>0.32287</td>\n",
       "      <td>3.39090</td>\n",
       "      <td>1.94442</td>\n",
       "      <td>0.09276</td>\n",
       "      <td>0.30218</td>\n",
       "      <td>0.73104</td>\n",
       "    </tr>\n",
       "    <tr>\n",
       "      <th>min</th>\n",
       "      <td>1.05000</td>\n",
       "      <td>0.00000</td>\n",
       "      <td>0.00000</td>\n",
       "      <td>0.00000</td>\n",
       "      <td>1.00000</td>\n",
       "      <td>0.00000</td>\n",
       "      <td>0.00000</td>\n",
       "      <td>0.00000</td>\n",
       "      <td>0.00000</td>\n",
       "      <td>-27.00000</td>\n",
       "      <td>...</td>\n",
       "      <td>-4.68411</td>\n",
       "      <td>-4.31983</td>\n",
       "      <td>-2.51292</td>\n",
       "      <td>-3.11884</td>\n",
       "      <td>-2.00000</td>\n",
       "      <td>-15.20274</td>\n",
       "      <td>-9.18172</td>\n",
       "      <td>-0.75000</td>\n",
       "      <td>0.00000</td>\n",
       "      <td>0.00000</td>\n",
       "    </tr>\n",
       "    <tr>\n",
       "      <th>25%</th>\n",
       "      <td>1.66700</td>\n",
       "      <td>6.00000</td>\n",
       "      <td>4.00000</td>\n",
       "      <td>10.00000</td>\n",
       "      <td>6.00000</td>\n",
       "      <td>5.00000</td>\n",
       "      <td>4.00000</td>\n",
       "      <td>4.00000</td>\n",
       "      <td>6.00000</td>\n",
       "      <td>-2.00000</td>\n",
       "      <td>...</td>\n",
       "      <td>-0.71641</td>\n",
       "      <td>-0.53122</td>\n",
       "      <td>-0.44041</td>\n",
       "      <td>-0.40681</td>\n",
       "      <td>0.00000</td>\n",
       "      <td>-2.22223</td>\n",
       "      <td>-1.29347</td>\n",
       "      <td>-0.05433</td>\n",
       "      <td>1.71000</td>\n",
       "      <td>0.00000</td>\n",
       "    </tr>\n",
       "    <tr>\n",
       "      <th>50%</th>\n",
       "      <td>2.15000</td>\n",
       "      <td>13.00000</td>\n",
       "      <td>9.00000</td>\n",
       "      <td>22.00000</td>\n",
       "      <td>11.00000</td>\n",
       "      <td>12.00000</td>\n",
       "      <td>9.00000</td>\n",
       "      <td>9.00000</td>\n",
       "      <td>13.00000</td>\n",
       "      <td>1.00000</td>\n",
       "      <td>...</td>\n",
       "      <td>0.00000</td>\n",
       "      <td>0.00000</td>\n",
       "      <td>0.00000</td>\n",
       "      <td>0.00107</td>\n",
       "      <td>0.00000</td>\n",
       "      <td>-0.11938</td>\n",
       "      <td>-0.01249</td>\n",
       "      <td>0.00000</td>\n",
       "      <td>1.85000</td>\n",
       "      <td>1.00000</td>\n",
       "    </tr>\n",
       "    <tr>\n",
       "      <th>75%</th>\n",
       "      <td>2.80000</td>\n",
       "      <td>21.00000</td>\n",
       "      <td>15.00000</td>\n",
       "      <td>36.00000</td>\n",
       "      <td>16.00000</td>\n",
       "      <td>20.00000</td>\n",
       "      <td>15.00000</td>\n",
       "      <td>16.00000</td>\n",
       "      <td>21.00000</td>\n",
       "      <td>7.00000</td>\n",
       "      <td>...</td>\n",
       "      <td>0.65463</td>\n",
       "      <td>0.49050</td>\n",
       "      <td>0.41091</td>\n",
       "      <td>0.45010</td>\n",
       "      <td>0.00000</td>\n",
       "      <td>1.80933</td>\n",
       "      <td>1.03523</td>\n",
       "      <td>0.05483</td>\n",
       "      <td>2.02000</td>\n",
       "      <td>2.00000</td>\n",
       "    </tr>\n",
       "    <tr>\n",
       "      <th>max</th>\n",
       "      <td>23.00000</td>\n",
       "      <td>52.00000</td>\n",
       "      <td>47.00000</td>\n",
       "      <td>94.00000</td>\n",
       "      <td>20.00000</td>\n",
       "      <td>61.00000</td>\n",
       "      <td>43.00000</td>\n",
       "      <td>48.00000</td>\n",
       "      <td>52.00000</td>\n",
       "      <td>48.00000</td>\n",
       "      <td>...</td>\n",
       "      <td>4.82114</td>\n",
       "      <td>4.39628</td>\n",
       "      <td>2.98714</td>\n",
       "      <td>2.83055</td>\n",
       "      <td>2.00000</td>\n",
       "      <td>12.56270</td>\n",
       "      <td>8.20958</td>\n",
       "      <td>0.66667</td>\n",
       "      <td>4.33000</td>\n",
       "      <td>2.00000</td>\n",
       "    </tr>\n",
       "  </tbody>\n",
       "</table>\n",
       "<p>8 rows × 71 columns</p>\n",
       "</div>"
      ],
      "text/plain": [
       "            g1_1       g1_2       g1_3       g1_4       g1_5       g1_6  \\\n",
       "count 6620.00000 6620.00000 6620.00000 6620.00000 6620.00000 6620.00000   \n",
       "mean     2.70878   14.42402   10.48565   24.90967   10.98807   13.41208   \n",
       "std      1.85772   10.70079    8.38420   18.17495    5.63598   10.09003   \n",
       "min      1.05000    0.00000    0.00000    0.00000    1.00000    0.00000   \n",
       "25%      1.66700    6.00000    4.00000   10.00000    6.00000    5.00000   \n",
       "50%      2.15000   13.00000    9.00000   22.00000   11.00000   12.00000   \n",
       "75%      2.80000   21.00000   15.00000   36.00000   16.00000   20.00000   \n",
       "max     23.00000   52.00000   47.00000   94.00000   20.00000   61.00000   \n",
       "\n",
       "            g1_7       g1_8       g1_9      g1_10  ...       c_20       c_21  \\\n",
       "count 6620.00000 6620.00000 6620.00000 6620.00000  ... 6620.00000 6620.00000   \n",
       "mean    10.16103   10.74547   14.16903    3.25106  ...   -0.02931   -0.00672   \n",
       "std      7.49504    7.96425    9.86673    8.48121  ...    1.22075    1.06820   \n",
       "min      0.00000    0.00000    0.00000  -27.00000  ...   -4.68411   -4.31983   \n",
       "25%      4.00000    4.00000    6.00000   -2.00000  ...   -0.71641   -0.53122   \n",
       "50%      9.00000    9.00000   13.00000    1.00000  ...    0.00000    0.00000   \n",
       "75%     15.00000   16.00000   21.00000    7.00000  ...    0.65463    0.49050   \n",
       "max     43.00000   48.00000   52.00000   48.00000  ...    4.82114    4.39628   \n",
       "\n",
       "            c_22       c_23       c_24       c_25       c_26       c_27  \\\n",
       "count 6620.00000 6620.00000 6620.00000 6620.00000 6620.00000 6620.00000   \n",
       "mean    -0.00415    0.00883    0.00000   -0.22843   -0.10373    0.00041   \n",
       "std      0.66324    0.68342    0.32287    3.39090    1.94442    0.09276   \n",
       "min     -2.51292   -3.11884   -2.00000  -15.20274   -9.18172   -0.75000   \n",
       "25%     -0.44041   -0.40681    0.00000   -2.22223   -1.29347   -0.05433   \n",
       "50%      0.00000    0.00107    0.00000   -0.11938   -0.01249    0.00000   \n",
       "75%      0.41091    0.45010    0.00000    1.80933    1.03523    0.05483   \n",
       "max      2.98714    2.83055    2.00000   12.56270    8.20958    0.66667   \n",
       "\n",
       "            c_28     target  \n",
       "count 6620.00000 6620.00000  \n",
       "mean     1.91713    1.03172  \n",
       "std      0.30218    0.73104  \n",
       "min      0.00000    0.00000  \n",
       "25%      1.71000    0.00000  \n",
       "50%      1.85000    1.00000  \n",
       "75%      2.02000    2.00000  \n",
       "max      4.33000    2.00000  \n",
       "\n",
       "[8 rows x 71 columns]"
      ]
     },
     "execution_count": 3,
     "metadata": {},
     "output_type": "execute_result"
    }
   ],
   "source": [
    "dataset.describe()"
   ]
  },
  {
   "cell_type": "code",
   "execution_count": 4,
   "metadata": {},
   "outputs": [],
   "source": [
    "y = data[:, 70]"
   ]
  },
  {
   "cell_type": "code",
   "execution_count": 5,
   "metadata": {},
   "outputs": [],
   "source": [
    "X = data[:, [i for i in range(69)]]"
   ]
  },
  {
   "cell_type": "code",
   "execution_count": 6,
   "metadata": {},
   "outputs": [
    {
     "data": {
      "text/plain": [
       "array([[ 4.50000000e+00,  1.00000000e+00,  3.00000000e+00, ...,\n",
       "        -3.23200000e+00, -1.94400000e+00, -7.94352044e-03],\n",
       "       [ 2.20000000e+00,  2.40000000e+01,  2.20000000e+01, ...,\n",
       "        -5.34217368e+00, -1.32135450e+00,  1.81063922e-01],\n",
       "       [ 1.20000000e+01,  7.00000000e+00,  4.00000000e+00, ...,\n",
       "        -6.56652100e+00, -4.17640335e+00, -4.02769281e-02],\n",
       "       ...,\n",
       "       [ 2.50000000e+00,  5.00000000e+00,  8.00000000e+00, ...,\n",
       "         1.74344441e+00,  1.15972509e+00,  1.91948723e-02],\n",
       "       [ 1.80000000e+00,  5.00000000e+00,  4.00000000e+00, ...,\n",
       "         1.95916800e+00,  1.39641600e+00,  7.11798746e-02],\n",
       "       [ 1.95000000e+00,  3.50000000e+01,  3.70000000e+01, ...,\n",
       "        -3.36965072e+00, -4.92462849e-01,  4.25231278e-02]])"
      ]
     },
     "execution_count": 6,
     "metadata": {},
     "output_type": "execute_result"
    }
   ],
   "source": [
    "X"
   ]
  },
  {
   "cell_type": "code",
   "execution_count": 7,
   "metadata": {},
   "outputs": [],
   "source": [
    "corr = dataset.corr()"
   ]
  },
  {
   "cell_type": "code",
   "execution_count": 23,
   "metadata": {},
   "outputs": [
    {
     "data": {
      "text/plain": [
       "<AxesSubplot:>"
      ]
     },
     "execution_count": 23,
     "metadata": {},
     "output_type": "execute_result"
    },
    {
     "data": {
      "image/png": "[encoded data removed]",
      "text/plain": [
       "<Figure size 864x864 with 2 Axes>"
      ]
     },
     "metadata": {
      "needs_background": "light"
     },
     "output_type": "display_data"
    }
   ],
   "source": [
    "figure(num=None, figsize=(12, 12))\n",
    "\n",
    "sns.heatmap(corr)"
   ]
  },
  {
   "cell_type": "code",
   "execution_count": 8,
   "metadata": {},
   "outputs": [],
   "source": [
    "corr_target = corr['target']"
   ]
  },
  {
   "cell_type": "code",
   "execution_count": 9,
   "metadata": {},
   "outputs": [
    {
     "data": {
      "text/plain": [
       "g1_1      0.23235\n",
       "g1_2     -0.04270\n",
       "g1_3     -0.06241\n",
       "g1_4     -0.05393\n",
       "g1_5      0.08791\n",
       "           ...   \n",
       "c_25     -0.14781\n",
       "c_26     -0.14923\n",
       "c_27     -0.06214\n",
       "c_28      0.02135\n",
       "target    1.00000\n",
       "Name: target, Length: 71, dtype: float64"
      ]
     },
     "execution_count": 9,
     "metadata": {},
     "output_type": "execute_result"
    }
   ],
   "source": [
    "corr_target"
   ]
  },
  {
   "cell_type": "code",
   "execution_count": 10,
   "metadata": {},
   "outputs": [
    {
     "name": "stdout",
     "output_type": "stream",
     "text": [
      "0.23234998298116402\n",
      "0\n",
      "-0.12020726853767753\n",
      "21\n",
      "-0.12188659826822577\n",
      "25\n",
      "0.12469087072530877\n",
      "30\n",
      "0.12983734078459627\n",
      "31\n",
      "0.1444494516419163\n",
      "32\n",
      "0.12419816076413902\n",
      "33\n",
      "0.11794120880513341\n",
      "34\n",
      "0.10208406099868146\n",
      "36\n",
      "0.11127676459759837\n",
      "39\n",
      "-0.2193705322455647\n",
      "43\n",
      "0.12375462428557049\n",
      "44\n",
      "0.1623622633170268\n",
      "49\n",
      "-0.14252631261891102\n",
      "51\n",
      "-0.13278657221053797\n",
      "52\n",
      "-0.1671398508042021\n",
      "53\n",
      "-0.14114322953729388\n",
      "58\n",
      "-0.13966477347227788\n",
      "59\n",
      "-0.16422370856431018\n",
      "60\n",
      "-0.16283372001064464\n",
      "61\n",
      "-0.15716332153873439\n",
      "62\n",
      "-0.14781332510114145\n",
      "66\n",
      "-0.14923256464569457\n",
      "67\n"
     ]
    }
   ],
   "source": [
    "for i in range(70):\n",
    "    if corr_target[i] <-0.1 or corr_target[i] >0.1:\n",
    "        print(corr_target[i])\n",
    "        print(i)"
   ]
  },
  {
   "cell_type": "code",
   "execution_count": 11,
   "metadata": {},
   "outputs": [
    {
     "data": {
      "text/plain": [
       "3"
      ]
     },
     "execution_count": 11,
     "metadata": {},
     "output_type": "execute_result"
    }
   ],
   "source": [
    "3#normalize this data\n"
   ]
  },
  {
   "cell_type": "code",
   "execution_count": null,
   "metadata": {},
   "outputs": [],
   "source": []
  },
  {
   "cell_type": "code",
   "execution_count": 12,
   "metadata": {},
   "outputs": [],
   "source": [
    "x_t, x_v, y_t, y_v = train_test_split(X, y, train_size=0.8)"
   ]
  },
  {
   "cell_type": "code",
   "execution_count": 14,
   "metadata": {},
   "outputs": [
    {
     "data": {
      "text/plain": [
       "array([[ 0.54800232, -1.05895   , -1.25052355, ..., -0.07548084,\n",
       "        -1.15457614, -3.67998147],\n",
       "       [-0.48575052, -0.40308602, -0.41026819, ...,  0.10931552,\n",
       "        -0.33212616, -0.85162203],\n",
       "       [-0.24719217,  1.09603165,  1.39027901, ..., -0.51907959,\n",
       "        -0.60221551, -0.22614141],\n",
       "       ...,\n",
       "       [-0.76141794, -0.21569631,  0.18991421, ...,  0.36455781,\n",
       "         1.32437699,  2.19539779],\n",
       "       [ 2.80105337, -0.0283066 , -0.77037763, ..., -0.71371031,\n",
       "        -0.4515274 ,  0.46122737],\n",
       "       [-0.52816089, -1.24633971, -0.77037763, ...,  0.20519071,\n",
       "        -0.6722676 , -2.89106646]])"
      ]
     },
     "execution_count": 14,
     "metadata": {},
     "output_type": "execute_result"
    }
   ],
   "source": [
    "scaler = preprocessing.StandardScaler().fit(x_t)\n",
    "X_scaled = scaler.transform(x_t)\n",
    "X_scaled"
   ]
  },
  {
   "cell_type": "code",
   "execution_count": 17,
   "metadata": {},
   "outputs": [
    {
     "name": "stdout",
     "output_type": "stream",
     "text": [
      "Correct classification Logistic  80.0 % of the data:  0.5279456193353474\n",
      "              precision    recall  f1-score   support\n",
      "\n",
      "         0.0       0.27      0.17      0.21       329\n",
      "         1.0       0.64      0.68      0.66       647\n",
      "         2.0       0.48      0.58      0.52       348\n",
      "\n",
      "    accuracy                           0.53      1324\n",
      "   macro avg       0.46      0.48      0.46      1324\n",
      "weighted avg       0.50      0.53      0.51      1324\n",
      "\n"
     ]
    }
   ],
   "source": [
    "logireg = LogisticRegression(C=2, fit_intercept=True, penalty='l2', tol=0.001, max_iter = 1000000)\n",
    "logireg.fit(X_scaled, y_t)\n",
    "print (\"Correct classification Logistic \", 0.8*100, \"% of the data: \", logireg.score(x_v, y_v))\n",
    "print(metrics.classification_report(y_v, logireg.predict(x_v)))"
   ]
  },
  {
   "cell_type": "code",
   "execution_count": 18,
   "metadata": {},
   "outputs": [
    {
     "name": "stdout",
     "output_type": "stream",
     "text": [
      "\n",
      "\n",
      "Correct classification SVM Linear  80.0 % of the data:  0.5332326283987915\n",
      "              precision    recall  f1-score   support\n",
      "\n",
      "         0.0       0.31      0.01      0.02       329\n",
      "         1.0       0.69      0.64      0.66       647\n",
      "         2.0       0.41      0.84      0.55       348\n",
      "\n",
      "    accuracy                           0.53      1324\n",
      "   macro avg       0.47      0.49      0.41      1324\n",
      "weighted avg       0.52      0.53      0.47      1324\n",
      "\n"
     ]
    },
    {
     "name": "stderr",
     "output_type": "stream",
     "text": [
      "C:\\Users\\Alex\\anaconda3\\lib\\site-packages\\sklearn\\svm\\_base.py:985: ConvergenceWarning: Liblinear failed to converge, increase the number of iterations.\n",
      "  warnings.warn(\"Liblinear failed to converge, increase \"\n"
     ]
    }
   ],
   "source": [
    "svcLin = svm.LinearSVC(C=10, max_iter=10000)\n",
    "svcLin.fit(x_t,y_t)\n",
    "print (\"\\n\\nCorrect classification SVM Linear \", 0.8*100, \"% of the data: \", svcLin.score(x_v, y_v))\n",
    "print(metrics.classification_report(y_v, svcLin.predict(x_v)))  "
   ]
  },
  {
   "cell_type": "code",
   "execution_count": 20,
   "metadata": {},
   "outputs": [
    {
     "name": "stdout",
     "output_type": "stream",
     "text": [
      "0.5785498489425982\n"
     ]
    }
   ],
   "source": [
    "clf = RandomForestClassifier(max_depth=2, random_state=0)\n",
    "clf.fit(X_scaled, y_t)\n",
    "print(clf.score(x_v, y_v))\n"
   ]
  },
  {
   "cell_type": "code",
   "execution_count": 30,
   "metadata": {},
   "outputs": [
    {
     "name": "stdout",
     "output_type": "stream",
     "text": [
      "Score of Histogram-based Gradient Boosting Regression Tree:  0.5823262839879154\n"
     ]
    }
   ],
   "source": [
    "hgb = HistGradientBoostingClassifier()\n",
    "hgb.fit(X_scaled, y_t)\n",
    "ls_preds = hgb.predict(x_v)\n",
    "print('Score of Histogram-based Gradient Boosting Regression Tree: ', hgb.score(x_v,y_v))"
   ]
  },
  {
   "cell_type": "code",
   "execution_count": null,
   "metadata": {},
   "outputs": [],
   "source": []
  }
 ],
 "metadata": {
  "kernelspec": {
   "display_name": "Python 3",
   "language": "python",
   "name": "python3"
  },
  "language_info": {
   "codemirror_mode": {
    "name": "ipython",
    "version": 3
   },
   "file_extension": ".py",
   "mimetype": "text/x-python",
   "name": "python",
   "nbconvert_exporter": "python",
   "pygments_lexer": "ipython3",
   "version": "3.8.8"
  }
 },
 "nbformat": 4,
 "nbformat_minor": 2
}
