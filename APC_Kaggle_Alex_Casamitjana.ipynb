{
 "cells": [
  {
   "cell_type": "code",
   "execution_count": 87,
   "metadata": {},
   "outputs": [],
   "source": [
    "import pandas as pd\n",
    "import numpy as np\n",
    "import seaborn as sns\n",
    "from sklearn.model_selection import train_test_split\n",
    "from sklearn import preprocessing\n",
    "from sklearn.linear_model import LogisticRegression\n",
    "from sklearn import svm\n",
    "from sklearn import metrics\n",
    "from sklearn.ensemble import RandomForestClassifier\n",
    "from matplotlib.pyplot import figure\n",
    "import matplotlib\n",
    "from sklearn.experimental import enable_hist_gradient_boosting\n",
    "from sklearn.ensemble import HistGradientBoostingClassifier\n",
    "from sklearn.decomposition import PCA\n",
    "from matplotlib import pyplot as plt\n",
    "\n",
    "from sklearn.ensemble import ExtraTreesClassifier"
   ]
  },
  {
   "cell_type": "code",
   "execution_count": 2,
   "metadata": {},
   "outputs": [],
   "source": [
    "pd.set_option('display.float_format', lambda x: '%.5f' % x)\n",
    "pd.set_option('precision', 12);\n",
    "\n",
    "\n",
    "def load_dataset(name):\n",
    "    dataset = pd.read_csv(name, header=0, delimiter=',')\n",
    "    return dataset\n",
    "\n",
    "\n",
    "dataset = load_dataset('customerTargeting.csv')\n",
    "data = dataset.values\n",
    "labels = dataset.columns.values"
   ]
  },
  {
   "cell_type": "code",
   "execution_count": 3,
   "metadata": {},
   "outputs": [
    {
     "data": {
      "text/html": [
       "<div>\n",
       "<style scoped>\n",
       "    .dataframe tbody tr th:only-of-type {\n",
       "        vertical-align: middle;\n",
       "    }\n",
       "\n",
       "    .dataframe tbody tr th {\n",
       "        vertical-align: top;\n",
       "    }\n",
       "\n",
       "    .dataframe thead th {\n",
       "        text-align: right;\n",
       "    }\n",
       "</style>\n",
       "<table border=\"1\" class=\"dataframe\">\n",
       "  <thead>\n",
       "    <tr style=\"text-align: right;\">\n",
       "      <th></th>\n",
       "      <th>g1_1</th>\n",
       "      <th>g1_2</th>\n",
       "      <th>g1_3</th>\n",
       "      <th>g1_4</th>\n",
       "      <th>g1_5</th>\n",
       "      <th>g1_6</th>\n",
       "      <th>g1_7</th>\n",
       "      <th>g1_8</th>\n",
       "      <th>g1_9</th>\n",
       "      <th>g1_10</th>\n",
       "      <th>...</th>\n",
       "      <th>c_20</th>\n",
       "      <th>c_21</th>\n",
       "      <th>c_22</th>\n",
       "      <th>c_23</th>\n",
       "      <th>c_24</th>\n",
       "      <th>c_25</th>\n",
       "      <th>c_26</th>\n",
       "      <th>c_27</th>\n",
       "      <th>c_28</th>\n",
       "      <th>target</th>\n",
       "    </tr>\n",
       "  </thead>\n",
       "  <tbody>\n",
       "    <tr>\n",
       "      <th>count</th>\n",
       "      <td>6620.00000</td>\n",
       "      <td>6620.00000</td>\n",
       "      <td>6620.00000</td>\n",
       "      <td>6620.00000</td>\n",
       "      <td>6620.00000</td>\n",
       "      <td>6620.00000</td>\n",
       "      <td>6620.00000</td>\n",
       "      <td>6620.00000</td>\n",
       "      <td>6620.00000</td>\n",
       "      <td>6620.00000</td>\n",
       "      <td>...</td>\n",
       "      <td>6620.00000</td>\n",
       "      <td>6620.00000</td>\n",
       "      <td>6620.00000</td>\n",
       "      <td>6620.00000</td>\n",
       "      <td>6620.00000</td>\n",
       "      <td>6620.00000</td>\n",
       "      <td>6620.00000</td>\n",
       "      <td>6620.00000</td>\n",
       "      <td>6620.00000</td>\n",
       "      <td>6620.00000</td>\n",
       "    </tr>\n",
       "    <tr>\n",
       "      <th>mean</th>\n",
       "      <td>2.70878</td>\n",
       "      <td>14.42402</td>\n",
       "      <td>10.48565</td>\n",
       "      <td>24.90967</td>\n",
       "      <td>10.98807</td>\n",
       "      <td>13.41208</td>\n",
       "      <td>10.16103</td>\n",
       "      <td>10.74547</td>\n",
       "      <td>14.16903</td>\n",
       "      <td>3.25106</td>\n",
       "      <td>...</td>\n",
       "      <td>-0.02931</td>\n",
       "      <td>-0.00672</td>\n",
       "      <td>-0.00415</td>\n",
       "      <td>0.00883</td>\n",
       "      <td>0.00000</td>\n",
       "      <td>-0.22843</td>\n",
       "      <td>-0.10373</td>\n",
       "      <td>0.00041</td>\n",
       "      <td>1.91713</td>\n",
       "      <td>1.03172</td>\n",
       "    </tr>\n",
       "    <tr>\n",
       "      <th>std</th>\n",
       "      <td>1.85772</td>\n",
       "      <td>10.70079</td>\n",
       "      <td>8.38420</td>\n",
       "      <td>18.17495</td>\n",
       "      <td>5.63598</td>\n",
       "      <td>10.09003</td>\n",
       "      <td>7.49504</td>\n",
       "      <td>7.96425</td>\n",
       "      <td>9.86673</td>\n",
       "      <td>8.48121</td>\n",
       "      <td>...</td>\n",
       "      <td>1.22075</td>\n",
       "      <td>1.06820</td>\n",
       "      <td>0.66324</td>\n",
       "      <td>0.68342</td>\n",
       "      <td>0.32287</td>\n",
       "      <td>3.39090</td>\n",
       "      <td>1.94442</td>\n",
       "      <td>0.09276</td>\n",
       "      <td>0.30218</td>\n",
       "      <td>0.73104</td>\n",
       "    </tr>\n",
       "    <tr>\n",
       "      <th>min</th>\n",
       "      <td>1.05000</td>\n",
       "      <td>0.00000</td>\n",
       "      <td>0.00000</td>\n",
       "      <td>0.00000</td>\n",
       "      <td>1.00000</td>\n",
       "      <td>0.00000</td>\n",
       "      <td>0.00000</td>\n",
       "      <td>0.00000</td>\n",
       "      <td>0.00000</td>\n",
       "      <td>-27.00000</td>\n",
       "      <td>...</td>\n",
       "      <td>-4.68411</td>\n",
       "      <td>-4.31983</td>\n",
       "      <td>-2.51292</td>\n",
       "      <td>-3.11884</td>\n",
       "      <td>-2.00000</td>\n",
       "      <td>-15.20274</td>\n",
       "      <td>-9.18172</td>\n",
       "      <td>-0.75000</td>\n",
       "      <td>0.00000</td>\n",
       "      <td>0.00000</td>\n",
       "    </tr>\n",
       "    <tr>\n",
       "      <th>25%</th>\n",
       "      <td>1.66700</td>\n",
       "      <td>6.00000</td>\n",
       "      <td>4.00000</td>\n",
       "      <td>10.00000</td>\n",
       "      <td>6.00000</td>\n",
       "      <td>5.00000</td>\n",
       "      <td>4.00000</td>\n",
       "      <td>4.00000</td>\n",
       "      <td>6.00000</td>\n",
       "      <td>-2.00000</td>\n",
       "      <td>...</td>\n",
       "      <td>-0.71641</td>\n",
       "      <td>-0.53122</td>\n",
       "      <td>-0.44041</td>\n",
       "      <td>-0.40681</td>\n",
       "      <td>0.00000</td>\n",
       "      <td>-2.22223</td>\n",
       "      <td>-1.29347</td>\n",
       "      <td>-0.05433</td>\n",
       "      <td>1.71000</td>\n",
       "      <td>0.00000</td>\n",
       "    </tr>\n",
       "    <tr>\n",
       "      <th>50%</th>\n",
       "      <td>2.15000</td>\n",
       "      <td>13.00000</td>\n",
       "      <td>9.00000</td>\n",
       "      <td>22.00000</td>\n",
       "      <td>11.00000</td>\n",
       "      <td>12.00000</td>\n",
       "      <td>9.00000</td>\n",
       "      <td>9.00000</td>\n",
       "      <td>13.00000</td>\n",
       "      <td>1.00000</td>\n",
       "      <td>...</td>\n",
       "      <td>0.00000</td>\n",
       "      <td>0.00000</td>\n",
       "      <td>0.00000</td>\n",
       "      <td>0.00107</td>\n",
       "      <td>0.00000</td>\n",
       "      <td>-0.11938</td>\n",
       "      <td>-0.01249</td>\n",
       "      <td>0.00000</td>\n",
       "      <td>1.85000</td>\n",
       "      <td>1.00000</td>\n",
       "    </tr>\n",
       "    <tr>\n",
       "      <th>75%</th>\n",
       "      <td>2.80000</td>\n",
       "      <td>21.00000</td>\n",
       "      <td>15.00000</td>\n",
       "      <td>36.00000</td>\n",
       "      <td>16.00000</td>\n",
       "      <td>20.00000</td>\n",
       "      <td>15.00000</td>\n",
       "      <td>16.00000</td>\n",
       "      <td>21.00000</td>\n",
       "      <td>7.00000</td>\n",
       "      <td>...</td>\n",
       "      <td>0.65463</td>\n",
       "      <td>0.49050</td>\n",
       "      <td>0.41091</td>\n",
       "      <td>0.45010</td>\n",
       "      <td>0.00000</td>\n",
       "      <td>1.80933</td>\n",
       "      <td>1.03523</td>\n",
       "      <td>0.05483</td>\n",
       "      <td>2.02000</td>\n",
       "      <td>2.00000</td>\n",
       "    </tr>\n",
       "    <tr>\n",
       "      <th>max</th>\n",
       "      <td>23.00000</td>\n",
       "      <td>52.00000</td>\n",
       "      <td>47.00000</td>\n",
       "      <td>94.00000</td>\n",
       "      <td>20.00000</td>\n",
       "      <td>61.00000</td>\n",
       "      <td>43.00000</td>\n",
       "      <td>48.00000</td>\n",
       "      <td>52.00000</td>\n",
       "      <td>48.00000</td>\n",
       "      <td>...</td>\n",
       "      <td>4.82114</td>\n",
       "      <td>4.39628</td>\n",
       "      <td>2.98714</td>\n",
       "      <td>2.83055</td>\n",
       "      <td>2.00000</td>\n",
       "      <td>12.56270</td>\n",
       "      <td>8.20958</td>\n",
       "      <td>0.66667</td>\n",
       "      <td>4.33000</td>\n",
       "      <td>2.00000</td>\n",
       "    </tr>\n",
       "  </tbody>\n",
       "</table>\n",
       "<p>8 rows × 71 columns</p>\n",
       "</div>"
      ],
      "text/plain": [
       "            g1_1       g1_2       g1_3       g1_4       g1_5       g1_6  \\\n",
       "count 6620.00000 6620.00000 6620.00000 6620.00000 6620.00000 6620.00000   \n",
       "mean     2.70878   14.42402   10.48565   24.90967   10.98807   13.41208   \n",
       "std      1.85772   10.70079    8.38420   18.17495    5.63598   10.09003   \n",
       "min      1.05000    0.00000    0.00000    0.00000    1.00000    0.00000   \n",
       "25%      1.66700    6.00000    4.00000   10.00000    6.00000    5.00000   \n",
       "50%      2.15000   13.00000    9.00000   22.00000   11.00000   12.00000   \n",
       "75%      2.80000   21.00000   15.00000   36.00000   16.00000   20.00000   \n",
       "max     23.00000   52.00000   47.00000   94.00000   20.00000   61.00000   \n",
       "\n",
       "            g1_7       g1_8       g1_9      g1_10  ...       c_20       c_21  \\\n",
       "count 6620.00000 6620.00000 6620.00000 6620.00000  ... 6620.00000 6620.00000   \n",
       "mean    10.16103   10.74547   14.16903    3.25106  ...   -0.02931   -0.00672   \n",
       "std      7.49504    7.96425    9.86673    8.48121  ...    1.22075    1.06820   \n",
       "min      0.00000    0.00000    0.00000  -27.00000  ...   -4.68411   -4.31983   \n",
       "25%      4.00000    4.00000    6.00000   -2.00000  ...   -0.71641   -0.53122   \n",
       "50%      9.00000    9.00000   13.00000    1.00000  ...    0.00000    0.00000   \n",
       "75%     15.00000   16.00000   21.00000    7.00000  ...    0.65463    0.49050   \n",
       "max     43.00000   48.00000   52.00000   48.00000  ...    4.82114    4.39628   \n",
       "\n",
       "            c_22       c_23       c_24       c_25       c_26       c_27  \\\n",
       "count 6620.00000 6620.00000 6620.00000 6620.00000 6620.00000 6620.00000   \n",
       "mean    -0.00415    0.00883    0.00000   -0.22843   -0.10373    0.00041   \n",
       "std      0.66324    0.68342    0.32287    3.39090    1.94442    0.09276   \n",
       "min     -2.51292   -3.11884   -2.00000  -15.20274   -9.18172   -0.75000   \n",
       "25%     -0.44041   -0.40681    0.00000   -2.22223   -1.29347   -0.05433   \n",
       "50%      0.00000    0.00107    0.00000   -0.11938   -0.01249    0.00000   \n",
       "75%      0.41091    0.45010    0.00000    1.80933    1.03523    0.05483   \n",
       "max      2.98714    2.83055    2.00000   12.56270    8.20958    0.66667   \n",
       "\n",
       "            c_28     target  \n",
       "count 6620.00000 6620.00000  \n",
       "mean     1.91713    1.03172  \n",
       "std      0.30218    0.73104  \n",
       "min      0.00000    0.00000  \n",
       "25%      1.71000    0.00000  \n",
       "50%      1.85000    1.00000  \n",
       "75%      2.02000    2.00000  \n",
       "max      4.33000    2.00000  \n",
       "\n",
       "[8 rows x 71 columns]"
      ]
     },
     "execution_count": 3,
     "metadata": {},
     "output_type": "execute_result"
    }
   ],
   "source": [
    "dataset.describe()"
   ]
  },
  {
   "cell_type": "code",
   "execution_count": 118,
   "metadata": {},
   "outputs": [
    {
     "data": {
      "text/plain": [
       "6620"
      ]
     },
     "execution_count": 118,
     "metadata": {},
     "output_type": "execute_result"
    }
   ],
   "source": [
    "y = data[:, 70]\n",
    "len(y)"
   ]
  },
  {
   "cell_type": "code",
   "execution_count": 73,
   "metadata": {},
   "outputs": [],
   "source": [
    "X = data[:, [i for i in range(69)]]"
   ]
  },
  {
   "cell_type": "code",
   "execution_count": 48,
   "metadata": {},
   "outputs": [
    {
     "data": {
      "text/plain": [
       "array([[ 4.50000000e+00,  1.00000000e+00,  3.00000000e+00, ...,\n",
       "        -3.23200000e+00, -1.94400000e+00, -7.94352044e-03],\n",
       "       [ 2.20000000e+00,  2.40000000e+01,  2.20000000e+01, ...,\n",
       "        -5.34217368e+00, -1.32135450e+00,  1.81063922e-01],\n",
       "       [ 1.20000000e+01,  7.00000000e+00,  4.00000000e+00, ...,\n",
       "        -6.56652100e+00, -4.17640335e+00, -4.02769281e-02],\n",
       "       ...,\n",
       "       [ 2.50000000e+00,  5.00000000e+00,  8.00000000e+00, ...,\n",
       "         1.74344441e+00,  1.15972509e+00,  1.91948723e-02],\n",
       "       [ 1.80000000e+00,  5.00000000e+00,  4.00000000e+00, ...,\n",
       "         1.95916800e+00,  1.39641600e+00,  7.11798746e-02],\n",
       "       [ 1.95000000e+00,  3.50000000e+01,  3.70000000e+01, ...,\n",
       "        -3.36965072e+00, -4.92462849e-01,  4.25231278e-02]])"
      ]
     },
     "execution_count": 48,
     "metadata": {},
     "output_type": "execute_result"
    }
   ],
   "source": [
    "X"
   ]
  },
  {
   "cell_type": "code",
   "execution_count": 49,
   "metadata": {},
   "outputs": [],
   "source": [
    "corr = dataset.corr()"
   ]
  },
  {
   "cell_type": "code",
   "execution_count": 50,
   "metadata": {},
   "outputs": [
    {
     "data": {
      "text/plain": [
       "<AxesSubplot:>"
      ]
     },
     "execution_count": 50,
     "metadata": {},
     "output_type": "execute_result"
    },
    {
     "data": {
      "image/png": "[encoded data removed]",
      "text/plain": [
       "<Figure size 864x864 with 2 Axes>"
      ]
     },
     "metadata": {
      "needs_background": "light"
     },
     "output_type": "display_data"
    }
   ],
   "source": [
    "figure(num=None, figsize=(12, 12))\n",
    "\n",
    "sns.heatmap(corr)"
   ]
  },
  {
   "cell_type": "code",
   "execution_count": 51,
   "metadata": {},
   "outputs": [],
   "source": [
    "corr_target = corr['target']"
   ]
  },
  {
   "cell_type": "code",
   "execution_count": 52,
   "metadata": {},
   "outputs": [
    {
     "data": {
      "text/plain": [
       "g1_1      0.23235\n",
       "g1_2     -0.04270\n",
       "g1_3     -0.06241\n",
       "g1_4     -0.05393\n",
       "g1_5      0.08791\n",
       "           ...   \n",
       "c_25     -0.14781\n",
       "c_26     -0.14923\n",
       "c_27     -0.06214\n",
       "c_28      0.02135\n",
       "target    1.00000\n",
       "Name: target, Length: 71, dtype: float64"
      ]
     },
     "execution_count": 52,
     "metadata": {},
     "output_type": "execute_result"
    }
   ],
   "source": [
    "corr_target"
   ]
  },
  {
   "cell_type": "code",
   "execution_count": 53,
   "metadata": {},
   "outputs": [
    {
     "name": "stderr",
     "output_type": "stream",
     "text": [
      "C:\\Users\\Alex\\anaconda3\\lib\\site-packages\\seaborn\\_decorators.py:43: FutureWarning: Pass the following variable as a keyword arg: x. From version 0.12, the only valid positional argument will be `data`, and passing other arguments without an explicit keyword will result in an error or misinterpretation.\n",
      "  FutureWarning\n"
     ]
    },
    {
     "data": {
      "text/plain": [
       "<AxesSubplot:xlabel='target', ylabel='count'>"
      ]
     },
     "execution_count": 53,
     "metadata": {},
     "output_type": "execute_result"
    },
    {
     "data": {
      "image/png": "[encoded data removed]",
      "text/plain": [
       "<Figure size 432x288 with 1 Axes>"
      ]
     },
     "metadata": {
      "needs_background": "light"
     },
     "output_type": "display_data"
    }
   ],
   "source": [
    "sns.countplot(dataset['target'])"
   ]
  },
  {
   "cell_type": "code",
   "execution_count": null,
   "metadata": {},
   "outputs": [],
   "source": []
  },
  {
   "cell_type": "code",
   "execution_count": null,
   "metadata": {},
   "outputs": [],
   "source": []
  },
  {
   "cell_type": "code",
   "execution_count": null,
   "metadata": {},
   "outputs": [],
   "source": []
  },
  {
   "cell_type": "code",
   "execution_count": null,
   "metadata": {},
   "outputs": [],
   "source": []
  },
  {
   "cell_type": "code",
   "execution_count": null,
   "metadata": {},
   "outputs": [],
   "source": []
  },
  {
   "cell_type": "code",
   "execution_count": 93,
   "metadata": {},
   "outputs": [
    {
     "name": "stdout",
     "output_type": "stream",
     "text": [
      "0.23234998298116402\n",
      "0\n",
      "-0.12020726853767753\n",
      "21\n",
      "-0.12188659826822577\n",
      "25\n",
      "-0.2193705322455647\n",
      "43\n",
      "-0.14252631261891102\n",
      "51\n",
      "-0.13278657221053797\n",
      "52\n",
      "-0.1671398508042021\n",
      "53\n",
      "-0.14114322953729388\n",
      "58\n",
      "-0.13966477347227788\n",
      "59\n",
      "-0.16422370856431018\n",
      "60\n",
      "-0.16283372001064464\n",
      "61\n",
      "-0.15716332153873439\n",
      "62\n",
      "-0.14781332510114145\n",
      "66\n",
      "-0.14923256464569457\n",
      "67\n"
     ]
    }
   ],
   "source": [
    "for i in range(70):\n",
    "    if corr_target[i] <-0.1 or corr_target[i] >0.2:\n",
    "        print(corr_target[i])\n",
    "        print(i)"
   ]
  },
  {
   "cell_type": "code",
   "execution_count": 55,
   "metadata": {},
   "outputs": [],
   "source": [
    "#normalize this data\n"
   ]
  },
  {
   "cell_type": "code",
   "execution_count": null,
   "metadata": {},
   "outputs": [],
   "source": []
  },
  {
   "cell_type": "code",
   "execution_count": 56,
   "metadata": {},
   "outputs": [],
   "source": [
    "x_t, x_v, y_t, y_v = train_test_split(X, y, train_size=0.8)"
   ]
  },
  {
   "cell_type": "code",
   "execution_count": 57,
   "metadata": {},
   "outputs": [
    {
     "data": {
      "text/plain": [
       "array([[ 1.13213942,  0.97953367, -0.30067289, ..., -1.46290331,\n",
       "        -1.06658832,  0.49671634],\n",
       "       [-0.23958153,  0.88645899, -0.41937312, ..., -0.09426723,\n",
       "         0.26016232,  0.73527298],\n",
       "       [-0.32188478, -0.60273588, -0.30067289, ..., -0.85896895,\n",
       "        -0.83019255,  0.21490026],\n",
       "       ...,\n",
       "       [-0.68401911,  2.09642983,  1.59853081, ...,  2.3898906 ,\n",
       "         1.83683714, -0.47708185],\n",
       "       [ 1.26931151,  0.51416028, -0.06327242, ..., -0.09774432,\n",
       "        -0.27876703, -0.3492326 ],\n",
       "       [-0.81570432,  1.63105643,  2.54813266, ...,  1.31679042,\n",
       "         2.00106396,  1.25552298]])"
      ]
     },
     "execution_count": 57,
     "metadata": {},
     "output_type": "execute_result"
    }
   ],
   "source": [
    "scaler = preprocessing.StandardScaler().fit(x_t)\n",
    "X_scaled = scaler.transform(x_t)\n",
    "X_scaled"
   ]
  },
  {
   "cell_type": "code",
   "execution_count": 58,
   "metadata": {},
   "outputs": [
    {
     "name": "stdout",
     "output_type": "stream",
     "text": [
      "Correct classification Logistic  80.0 % of the data:  0.5521148036253777\n",
      "              precision    recall  f1-score   support\n",
      "\n",
      "         0.0       0.29      0.11      0.16       343\n",
      "         1.0       0.57      0.85      0.68       587\n",
      "         2.0       0.61      0.49      0.54       394\n",
      "\n",
      "    accuracy                           0.55      1324\n",
      "   macro avg       0.49      0.48      0.46      1324\n",
      "weighted avg       0.51      0.55      0.51      1324\n",
      "\n"
     ]
    }
   ],
   "source": [
    "logireg = LogisticRegression(C=2, fit_intercept=True, penalty='l2', tol=0.001, max_iter = 1000000)\n",
    "logireg.fit(X_scaled, y_t)\n",
    "print (\"Correct classification Logistic \", 0.8*100, \"% of the data: \", logireg.score(x_v, y_v))\n",
    "print(metrics.classification_report(y_v, logireg.predict(x_v)))"
   ]
  },
  {
   "cell_type": "code",
   "execution_count": 59,
   "metadata": {},
   "outputs": [
    {
     "name": "stdout",
     "output_type": "stream",
     "text": [
      "\n",
      "\n",
      "Correct classification SVM Linear  80.0 % of the data:  0.3466767371601209\n",
      "              precision    recall  f1-score   support\n",
      "\n",
      "         0.0       0.27      0.86      0.42       343\n",
      "         1.0       0.80      0.20      0.32       587\n",
      "         2.0       0.48      0.11      0.18       394\n",
      "\n",
      "    accuracy                           0.35      1324\n",
      "   macro avg       0.52      0.39      0.31      1324\n",
      "weighted avg       0.57      0.35      0.30      1324\n",
      "\n"
     ]
    },
    {
     "name": "stderr",
     "output_type": "stream",
     "text": [
      "C:\\Users\\Alex\\anaconda3\\lib\\site-packages\\sklearn\\svm\\_base.py:1208: ConvergenceWarning: Liblinear failed to converge, increase the number of iterations.\n",
      "  ConvergenceWarning,\n"
     ]
    }
   ],
   "source": [
    "svcLin = svm.LinearSVC(C=10, max_iter=10000)\n",
    "svcLin.fit(x_t,y_t)\n",
    "print (\"\\n\\nCorrect classification SVM Linear \", 0.8*100, \"% of the data: \", svcLin.score(x_v, y_v))\n",
    "print(metrics.classification_report(y_v, svcLin.predict(x_v)))  "
   ]
  },
  {
   "cell_type": "code",
   "execution_count": 60,
   "metadata": {},
   "outputs": [
    {
     "name": "stdout",
     "output_type": "stream",
     "text": [
      "0.5468277945619335\n"
     ]
    }
   ],
   "source": [
    "clf = RandomForestClassifier(max_depth=2, random_state=0)\n",
    "clf.fit(X_scaled, y_t)\n",
    "print(clf.score(x_v, y_v))\n"
   ]
  },
  {
   "cell_type": "code",
   "execution_count": 61,
   "metadata": {},
   "outputs": [
    {
     "name": "stdout",
     "output_type": "stream",
     "text": [
      "Score of Histogram-based Gradient Boosting Regression Tree:  0.5498489425981873\n"
     ]
    }
   ],
   "source": [
    "hgb = HistGradientBoostingClassifier()\n",
    "hgb.fit(X_scaled, y_t)\n",
    "ls_preds = hgb.predict(x_v)\n",
    "print('Score of Histogram-based Gradient Boosting Regression Tree: ', hgb.score(x_v,y_v))"
   ]
  },
  {
   "cell_type": "code",
   "execution_count": null,
   "metadata": {},
   "outputs": [],
   "source": []
  },
  {
   "cell_type": "code",
   "execution_count": null,
   "metadata": {},
   "outputs": [],
   "source": []
  },
  {
   "cell_type": "code",
   "execution_count": null,
   "metadata": {},
   "outputs": [],
   "source": []
  },
  {
   "cell_type": "code",
   "execution_count": null,
   "metadata": {},
   "outputs": [],
   "source": [
    "#PCA zone bitches\n",
    "#PCA deez nuts"
   ]
  },
  {
   "cell_type": "code",
   "execution_count": null,
   "metadata": {},
   "outputs": [],
   "source": []
  },
  {
   "cell_type": "code",
   "execution_count": 102,
   "metadata": {},
   "outputs": [
    {
     "data": {
      "text/plain": [
       "array([[ 4.50000000e+00,  1.00000000e+00,  3.00000000e+00, ...,\n",
       "        -3.23200000e+00, -1.94400000e+00, -7.94352044e-03],\n",
       "       [ 2.20000000e+00,  2.40000000e+01,  2.20000000e+01, ...,\n",
       "        -5.34217368e+00, -1.32135450e+00,  1.81063922e-01],\n",
       "       [ 1.20000000e+01,  7.00000000e+00,  4.00000000e+00, ...,\n",
       "        -6.56652100e+00, -4.17640335e+00, -4.02769281e-02],\n",
       "       ...,\n",
       "       [ 2.50000000e+00,  5.00000000e+00,  8.00000000e+00, ...,\n",
       "         1.74344441e+00,  1.15972509e+00,  1.91948723e-02],\n",
       "       [ 1.80000000e+00,  5.00000000e+00,  4.00000000e+00, ...,\n",
       "         1.95916800e+00,  1.39641600e+00,  7.11798746e-02],\n",
       "       [ 1.95000000e+00,  3.50000000e+01,  3.70000000e+01, ...,\n",
       "        -3.36965072e+00, -4.92462849e-01,  4.25231278e-02]])"
      ]
     },
     "execution_count": 102,
     "metadata": {},
     "output_type": "execute_result"
    }
   ],
   "source": [
    "pcaX = X\n",
    "pcaX"
   ]
  },
  {
   "cell_type": "code",
   "execution_count": 103,
   "metadata": {},
   "outputs": [
    {
     "data": {
      "text/plain": [
       "array([[ 0.96427446, -1.25458363, -0.89289528, ..., -0.88584125,\n",
       "        -0.94650989, -0.09004249],\n",
       "       [-0.27389273,  0.89495336,  1.3734425 , ..., -1.50819274,\n",
       "        -0.62626376,  1.9476882 ],\n",
       "       [ 5.00177619, -0.69383485, -0.77361435, ..., -1.86928832,\n",
       "        -2.09470502, -0.43863604],\n",
       "       ...,\n",
       "       [-0.11239266, -0.88075111, -0.2964906 , ...,  0.58156179,\n",
       "         0.64983338,  0.20254248],\n",
       "       [-0.48922616, -0.88075111, -0.77361435, ...,  0.64518494,\n",
       "         0.77157094,  0.76300419],\n",
       "       [-0.40847612,  1.92299279,  3.16265654, ..., -0.92643844,\n",
       "        -0.19993875,  0.45404952]])"
      ]
     },
     "execution_count": 103,
     "metadata": {},
     "output_type": "execute_result"
    }
   ],
   "source": []
  },
  {
   "cell_type": "code",
   "execution_count": 109,
   "metadata": {},
   "outputs": [],
   "source": [
    "pca = PCA()\n",
    "pca.fit(pcaX)\n",
    "pca_data = pca.transform(pcaX)\n",
    "per_var = pca.explained_variance_ratio_*100 \n",
    "cumulative_sum = np.cumsum(per_var)"
   ]
  },
  {
   "cell_type": "code",
   "execution_count": 112,
   "metadata": {},
   "outputs": [
    {
     "data": {
      "text/plain": [
       "array([ 40.58060485,  76.00490022,  89.12409619,  91.84085198,\n",
       "        93.56986026,  94.72502376,  95.72022063,  96.51322355,\n",
       "        97.07658297,  97.62606317,  98.03998547,  98.38953168,\n",
       "        98.70060142,  98.94405271,  99.1717079 ,  99.376144  ,\n",
       "        99.54786856,  99.69940079,  99.80045925,  99.85014789,\n",
       "        99.88904337,  99.92393842,  99.94568227,  99.95739638,\n",
       "        99.96554566,  99.97184245,  99.97637602,  99.98041544,\n",
       "        99.98418322,  99.98740058,  99.99032549,  99.99260462,\n",
       "        99.99478206,  99.99673691,  99.99790655,  99.99842093,\n",
       "        99.99882661,  99.99910082,  99.99932818,  99.99954189,\n",
       "        99.99970953,  99.99981132,  99.99990674, 100.        ,\n",
       "       100.        , 100.        , 100.        , 100.        ,\n",
       "       100.        , 100.        , 100.        , 100.        ,\n",
       "       100.        , 100.        , 100.        , 100.        ,\n",
       "       100.        , 100.        , 100.        , 100.        ,\n",
       "       100.        , 100.        , 100.        , 100.        ,\n",
       "       100.        , 100.        , 100.        , 100.        ,\n",
       "       100.        ])"
      ]
     },
     "execution_count": 112,
     "metadata": {},
     "output_type": "execute_result"
    }
   ],
   "source": [
    "cumulative_sum"
   ]
  },
  {
   "cell_type": "code",
   "execution_count": null,
   "metadata": {},
   "outputs": [],
   "source": [
    "#vemos que con 7 llega al 95"
   ]
  },
  {
   "cell_type": "code",
   "execution_count": 110,
   "metadata": {
    "scrolled": true
   },
   "outputs": [
    {
     "data": {
      "image/png": "[encoded data removed]",
      "text/plain": [
       "<Figure size 432x288 with 1 Axes>"
      ]
     },
     "metadata": {
      "needs_background": "light"
     },
     "output_type": "display_data"
    }
   ],
   "source": [
    "plt.step(range(0,len(cumulative_sum)), cumulative_sum, where='mid', color=\"blue\",label='cumulative variance')\n",
    "plt.axhline(y=95, color='red', linestyle='--',label='threshold: var = 90%')\n",
    "plt.ylabel(\"% of Cumulative Variance\")\n",
    "plt.xlabel('Principal Component')\n",
    "plt.suptitle(\"Evolution of the Cumulative Explained Variance\",\n",
    "             fontsize = 'x-large', fontweight = 'bold' )\n",
    "plt.legend() \n",
    "plt.show()"
   ]
  },
  {
   "cell_type": "code",
   "execution_count": 111,
   "metadata": {},
   "outputs": [
    {
     "data": {
      "image/png": "[encoded data removed]",
      "text/plain": [
       "<Figure size 720x360 with 1 Axes>"
      ]
     },
     "metadata": {
      "needs_background": "light"
     },
     "output_type": "display_data"
    }
   ],
   "source": [
    "plt.figure(figsize=(10,5))\n",
    "#sns.stripplot(x=xs, y=per_var)\n",
    "plt.bar(x=range(1, len(per_var)+1), height=per_var, width=1, color=\"blue\", linewidth=0.5) #, tick_label=labels\n",
    "plt.ylabel('% of Explained Variance')\n",
    "plt.xlabel('Principal Component')\n",
    "\n",
    "plt.show()"
   ]
  },
  {
   "cell_type": "code",
   "execution_count": 126,
   "metadata": {
    "scrolled": true
   },
   "outputs": [],
   "source": [
    "labels = ['PC'+str(i) for i in range(1, 8)]\n",
    "final_dataset = pd.DataFrame(pca_data[:,:7], columns=labels)\n",
    "fX = final_dataset\n"
   ]
  },
  {
   "cell_type": "code",
   "execution_count": 127,
   "metadata": {},
   "outputs": [
    {
     "data": {
      "text/html": [
       "<div>\n",
       "<style scoped>\n",
       "    .dataframe tbody tr th:only-of-type {\n",
       "        vertical-align: middle;\n",
       "    }\n",
       "\n",
       "    .dataframe tbody tr th {\n",
       "        vertical-align: top;\n",
       "    }\n",
       "\n",
       "    .dataframe thead th {\n",
       "        text-align: right;\n",
       "    }\n",
       "</style>\n",
       "<table border=\"1\" class=\"dataframe\">\n",
       "  <thead>\n",
       "    <tr style=\"text-align: right;\">\n",
       "      <th></th>\n",
       "      <th>PC1</th>\n",
       "      <th>PC2</th>\n",
       "      <th>PC3</th>\n",
       "      <th>PC4</th>\n",
       "      <th>PC5</th>\n",
       "      <th>PC6</th>\n",
       "      <th>PC7</th>\n",
       "    </tr>\n",
       "  </thead>\n",
       "  <tbody>\n",
       "    <tr>\n",
       "      <th>0</th>\n",
       "      <td>-5.90273</td>\n",
       "      <td>-43.11757</td>\n",
       "      <td>-13.58131</td>\n",
       "      <td>6.83703</td>\n",
       "      <td>-2.85664</td>\n",
       "      <td>-3.98388</td>\n",
       "      <td>-4.76238</td>\n",
       "    </tr>\n",
       "    <tr>\n",
       "      <th>1</th>\n",
       "      <td>-14.93590</td>\n",
       "      <td>43.07816</td>\n",
       "      <td>17.14840</td>\n",
       "      <td>-5.70284</td>\n",
       "      <td>-13.31668</td>\n",
       "      <td>-9.58449</td>\n",
       "      <td>8.78940</td>\n",
       "    </tr>\n",
       "    <tr>\n",
       "      <th>2</th>\n",
       "      <td>-61.61500</td>\n",
       "      <td>-16.09908</td>\n",
       "      <td>-22.24968</td>\n",
       "      <td>-10.85921</td>\n",
       "      <td>9.40251</td>\n",
       "      <td>1.97847</td>\n",
       "      <td>2.55219</td>\n",
       "    </tr>\n",
       "    <tr>\n",
       "      <th>3</th>\n",
       "      <td>17.44452</td>\n",
       "      <td>-31.32771</td>\n",
       "      <td>12.53422</td>\n",
       "      <td>-1.02831</td>\n",
       "      <td>-3.29365</td>\n",
       "      <td>6.67725</td>\n",
       "      <td>-4.34045</td>\n",
       "    </tr>\n",
       "    <tr>\n",
       "      <th>4</th>\n",
       "      <td>-23.47523</td>\n",
       "      <td>50.27620</td>\n",
       "      <td>9.05688</td>\n",
       "      <td>-1.84171</td>\n",
       "      <td>6.38836</td>\n",
       "      <td>-3.24868</td>\n",
       "      <td>14.75131</td>\n",
       "    </tr>\n",
       "    <tr>\n",
       "      <th>...</th>\n",
       "      <td>...</td>\n",
       "      <td>...</td>\n",
       "      <td>...</td>\n",
       "      <td>...</td>\n",
       "      <td>...</td>\n",
       "      <td>...</td>\n",
       "      <td>...</td>\n",
       "    </tr>\n",
       "    <tr>\n",
       "      <th>6615</th>\n",
       "      <td>6.62024</td>\n",
       "      <td>-34.83419</td>\n",
       "      <td>-25.72939</td>\n",
       "      <td>-0.33348</td>\n",
       "      <td>-4.17543</td>\n",
       "      <td>-7.17105</td>\n",
       "      <td>-7.51110</td>\n",
       "    </tr>\n",
       "    <tr>\n",
       "      <th>6616</th>\n",
       "      <td>34.76567</td>\n",
       "      <td>-0.91862</td>\n",
       "      <td>2.55889</td>\n",
       "      <td>-2.59402</td>\n",
       "      <td>2.34763</td>\n",
       "      <td>-1.82334</td>\n",
       "      <td>4.34505</td>\n",
       "    </tr>\n",
       "    <tr>\n",
       "      <th>6617</th>\n",
       "      <td>-4.84531</td>\n",
       "      <td>-26.28720</td>\n",
       "      <td>-3.88406</td>\n",
       "      <td>-25.60577</td>\n",
       "      <td>0.60583</td>\n",
       "      <td>4.01539</td>\n",
       "      <td>-3.86325</td>\n",
       "    </tr>\n",
       "    <tr>\n",
       "      <th>6618</th>\n",
       "      <td>10.39394</td>\n",
       "      <td>-40.51628</td>\n",
       "      <td>-7.89616</td>\n",
       "      <td>0.16797</td>\n",
       "      <td>0.70393</td>\n",
       "      <td>2.14239</td>\n",
       "      <td>0.50100</td>\n",
       "    </tr>\n",
       "    <tr>\n",
       "      <th>6619</th>\n",
       "      <td>30.97834</td>\n",
       "      <td>74.54909</td>\n",
       "      <td>-29.27503</td>\n",
       "      <td>-28.69810</td>\n",
       "      <td>-8.96626</td>\n",
       "      <td>6.04938</td>\n",
       "      <td>-7.07967</td>\n",
       "    </tr>\n",
       "  </tbody>\n",
       "</table>\n",
       "<p>6620 rows × 7 columns</p>\n",
       "</div>"
      ],
      "text/plain": [
       "           PC1       PC2       PC3       PC4       PC5      PC6      PC7\n",
       "0     -5.90273 -43.11757 -13.58131   6.83703  -2.85664 -3.98388 -4.76238\n",
       "1    -14.93590  43.07816  17.14840  -5.70284 -13.31668 -9.58449  8.78940\n",
       "2    -61.61500 -16.09908 -22.24968 -10.85921   9.40251  1.97847  2.55219\n",
       "3     17.44452 -31.32771  12.53422  -1.02831  -3.29365  6.67725 -4.34045\n",
       "4    -23.47523  50.27620   9.05688  -1.84171   6.38836 -3.24868 14.75131\n",
       "...        ...       ...       ...       ...       ...      ...      ...\n",
       "6615   6.62024 -34.83419 -25.72939  -0.33348  -4.17543 -7.17105 -7.51110\n",
       "6616  34.76567  -0.91862   2.55889  -2.59402   2.34763 -1.82334  4.34505\n",
       "6617  -4.84531 -26.28720  -3.88406 -25.60577   0.60583  4.01539 -3.86325\n",
       "6618  10.39394 -40.51628  -7.89616   0.16797   0.70393  2.14239  0.50100\n",
       "6619  30.97834  74.54909 -29.27503 -28.69810  -8.96626  6.04938 -7.07967\n",
       "\n",
       "[6620 rows x 7 columns]"
      ]
     },
     "execution_count": 127,
     "metadata": {},
     "output_type": "execute_result"
    }
   ],
   "source": [
    "fX"
   ]
  },
  {
   "cell_type": "code",
   "execution_count": 128,
   "metadata": {},
   "outputs": [
    {
     "data": {
      "text/html": [
       "<div>\n",
       "<style scoped>\n",
       "    .dataframe tbody tr th:only-of-type {\n",
       "        vertical-align: middle;\n",
       "    }\n",
       "\n",
       "    .dataframe tbody tr th {\n",
       "        vertical-align: top;\n",
       "    }\n",
       "\n",
       "    .dataframe thead th {\n",
       "        text-align: right;\n",
       "    }\n",
       "</style>\n",
       "<table border=\"1\" class=\"dataframe\">\n",
       "  <thead>\n",
       "    <tr style=\"text-align: right;\">\n",
       "      <th></th>\n",
       "      <th>PC1</th>\n",
       "      <th>PC2</th>\n",
       "      <th>PC3</th>\n",
       "      <th>PC4</th>\n",
       "      <th>PC5</th>\n",
       "      <th>PC6</th>\n",
       "      <th>PC7</th>\n",
       "      <th>Type</th>\n",
       "    </tr>\n",
       "  </thead>\n",
       "  <tbody>\n",
       "    <tr>\n",
       "      <th>count</th>\n",
       "      <td>6620.00000</td>\n",
       "      <td>6620.00000</td>\n",
       "      <td>6620.00000</td>\n",
       "      <td>6620.00000</td>\n",
       "      <td>6620.00000</td>\n",
       "      <td>6620.00000</td>\n",
       "      <td>6620.00000</td>\n",
       "      <td>6620.00000</td>\n",
       "    </tr>\n",
       "    <tr>\n",
       "      <th>mean</th>\n",
       "      <td>0.00000</td>\n",
       "      <td>0.00000</td>\n",
       "      <td>-0.00000</td>\n",
       "      <td>0.00000</td>\n",
       "      <td>-0.00000</td>\n",
       "      <td>0.00000</td>\n",
       "      <td>0.00000</td>\n",
       "      <td>1.03172</td>\n",
       "    </tr>\n",
       "    <tr>\n",
       "      <th>std</th>\n",
       "      <td>39.91978</td>\n",
       "      <td>37.29748</td>\n",
       "      <td>22.69773</td>\n",
       "      <td>10.32890</td>\n",
       "      <td>8.24000</td>\n",
       "      <td>6.73520</td>\n",
       "      <td>6.25149</td>\n",
       "      <td>0.73104</td>\n",
       "    </tr>\n",
       "    <tr>\n",
       "      <th>min</th>\n",
       "      <td>-183.04645</td>\n",
       "      <td>-57.55747</td>\n",
       "      <td>-90.31827</td>\n",
       "      <td>-40.82619</td>\n",
       "      <td>-33.76105</td>\n",
       "      <td>-27.07084</td>\n",
       "      <td>-26.22214</td>\n",
       "      <td>0.00000</td>\n",
       "    </tr>\n",
       "    <tr>\n",
       "      <th>25%</th>\n",
       "      <td>-18.58508</td>\n",
       "      <td>-31.04128</td>\n",
       "      <td>-14.95275</td>\n",
       "      <td>-5.94748</td>\n",
       "      <td>-4.67315</td>\n",
       "      <td>-3.81940</td>\n",
       "      <td>-3.55583</td>\n",
       "      <td>0.00000</td>\n",
       "    </tr>\n",
       "    <tr>\n",
       "      <th>50%</th>\n",
       "      <td>1.95104</td>\n",
       "      <td>-3.40645</td>\n",
       "      <td>-3.99127</td>\n",
       "      <td>0.62135</td>\n",
       "      <td>0.16575</td>\n",
       "      <td>0.08707</td>\n",
       "      <td>-0.16730</td>\n",
       "      <td>1.00000</td>\n",
       "    </tr>\n",
       "    <tr>\n",
       "      <th>75%</th>\n",
       "      <td>18.68772</td>\n",
       "      <td>25.98916</td>\n",
       "      <td>12.65907</td>\n",
       "      <td>5.75896</td>\n",
       "      <td>4.74892</td>\n",
       "      <td>3.82395</td>\n",
       "      <td>3.42777</td>\n",
       "      <td>2.00000</td>\n",
       "    </tr>\n",
       "    <tr>\n",
       "      <th>max</th>\n",
       "      <td>199.85785</td>\n",
       "      <td>137.17668</td>\n",
       "      <td>108.89680</td>\n",
       "      <td>44.45466</td>\n",
       "      <td>43.47900</td>\n",
       "      <td>35.39937</td>\n",
       "      <td>28.18796</td>\n",
       "      <td>2.00000</td>\n",
       "    </tr>\n",
       "  </tbody>\n",
       "</table>\n",
       "</div>"
      ],
      "text/plain": [
       "             PC1        PC2        PC3        PC4        PC5        PC6  \\\n",
       "count 6620.00000 6620.00000 6620.00000 6620.00000 6620.00000 6620.00000   \n",
       "mean     0.00000    0.00000   -0.00000    0.00000   -0.00000    0.00000   \n",
       "std     39.91978   37.29748   22.69773   10.32890    8.24000    6.73520   \n",
       "min   -183.04645  -57.55747  -90.31827  -40.82619  -33.76105  -27.07084   \n",
       "25%    -18.58508  -31.04128  -14.95275   -5.94748   -4.67315   -3.81940   \n",
       "50%      1.95104   -3.40645   -3.99127    0.62135    0.16575    0.08707   \n",
       "75%     18.68772   25.98916   12.65907    5.75896    4.74892    3.82395   \n",
       "max    199.85785  137.17668  108.89680   44.45466   43.47900   35.39937   \n",
       "\n",
       "             PC7       Type  \n",
       "count 6620.00000 6620.00000  \n",
       "mean     0.00000    1.03172  \n",
       "std      6.25149    0.73104  \n",
       "min    -26.22214    0.00000  \n",
       "25%     -3.55583    0.00000  \n",
       "50%     -0.16730    1.00000  \n",
       "75%      3.42777    2.00000  \n",
       "max     28.18796    2.00000  "
      ]
     },
     "execution_count": 128,
     "metadata": {},
     "output_type": "execute_result"
    }
   ],
   "source": [
    "final_dataset.insert(7, \"Type\", y, True)\n",
    "final_dataset.describe()"
   ]
  },
  {
   "cell_type": "code",
   "execution_count": null,
   "metadata": {},
   "outputs": [],
   "source": []
  },
  {
   "cell_type": "code",
   "execution_count": 66,
   "metadata": {},
   "outputs": [
    {
     "name": "stdout",
     "output_type": "stream",
     "text": [
      "Score of Histogram-based Gradient Boosting Regression Tree:  0.5626888217522659\n"
     ]
    }
   ],
   "source": [
    "hgb = HistGradientBoostingClassifier()\n",
    "hgb.fit(X_scaled, y_t)\n",
    "ls_preds = hgb.predict(x_v)\n",
    "print('Score of Histogram-based Gradient Boosting Regression Tree: ', hgb.score(x_v,y_v))"
   ]
  },
  {
   "cell_type": "code",
   "execution_count": 68,
   "metadata": {},
   "outputs": [
    {
     "name": "stdout",
     "output_type": "stream",
     "text": [
      "0.5558912386706949\n"
     ]
    }
   ],
   "source": [
    "clf = RandomForestClassifier(max_depth=2, random_state=0)\n",
    "clf.fit(X_scaled, y_t)\n",
    "print(clf.score(x_v, y_v))\n"
   ]
  },
  {
   "cell_type": "code",
   "execution_count": null,
   "metadata": {},
   "outputs": [],
   "source": []
  },
  {
   "cell_type": "code",
   "execution_count": null,
   "metadata": {},
   "outputs": [],
   "source": []
  },
  {
   "cell_type": "code",
   "execution_count": null,
   "metadata": {},
   "outputs": [],
   "source": []
  }
 ],
 "metadata": {
  "kernelspec": {
   "display_name": "Python 3 (ipykernel)",
   "language": "python",
   "name": "python3"
  },
  "language_info": {
   "codemirror_mode": {
    "name": "ipython",
    "version": 3
   },
   "file_extension": ".py",
   "mimetype": "text/x-python",
   "name": "python",
   "nbconvert_exporter": "python",
   "pygments_lexer": "ipython3",
   "version": "3.7.6"
  }
 },
 "nbformat": 4,
 "nbformat_minor": 2
}
