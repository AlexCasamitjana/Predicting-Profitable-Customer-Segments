{
 "cells": [
  {
   "cell_type": "code",
   "execution_count": 1,
   "id": "dfb3a32a",
   "metadata": {},
   "outputs": [
    {
     "name": "stderr",
     "output_type": "stream",
     "text": [
      "C:\\Users\\Alex\\anaconda3\\lib\\site-packages\\sklearn\\experimental\\enable_hist_gradient_boosting.py:17: UserWarning: Since version 1.0, it is not needed to import enable_hist_gradient_boosting anymore. HistGradientBoostingClassifier and HistGradientBoostingRegressor are now stable and can be normally imported from sklearn.ensemble.\n",
      "  \"Since version 1.0, \"\n"
     ]
    }
   ],
   "source": [
    "import pandas as pd\n",
    "import numpy as np\n",
    "import seaborn as sns\n",
    "from sklearn.model_selection import train_test_split\n",
    "from sklearn import preprocessing\n",
    "from sklearn.linear_model import LogisticRegression\n",
    "from sklearn import svm\n",
    "from sklearn import metrics\n",
    "from sklearn.ensemble import RandomForestClassifier\n",
    "from matplotlib.pyplot import figure\n",
    "import matplotlib\n",
    "from sklearn.experimental import enable_hist_gradient_boosting\n",
    "from sklearn.ensemble import HistGradientBoostingClassifier\n",
    "from sklearn.decomposition import PCA\n",
    "from matplotlib import pyplot as plt\n",
    "from sklearn.ensemble import ExtraTreesClassifier\n",
    "from sklearn.ensemble import BaggingClassifier, AdaBoostClassifier, GradientBoostingClassifier\n",
    "from sklearn.model_selection import GridSearchCV\n",
    "import warnings\n",
    "\n",
    "warnings.filterwarnings(\"ignore\")"
   ]
  },
  {
   "cell_type": "code",
   "execution_count": 2,
   "id": "d094cd72",
   "metadata": {},
   "outputs": [],
   "source": [
    "pd.set_option('display.float_format', lambda x: '%.5f' % x)\n",
    "pd.set_option('precision', 12);\n",
    "\n",
    "\n",
    "def load_dataset(name):\n",
    "    dataset = pd.read_csv(name, header=0, delimiter=',')\n",
    "    return dataset\n",
    "\n",
    "\n",
    "dataset = load_dataset('customerTargeting.csv')\n",
    "data = dataset.values\n",
    "labels = dataset.columns.values"
   ]
  },
  {
   "cell_type": "markdown",
   "id": "cb99235a",
   "metadata": {},
   "source": [
    "## Dataset Analysis"
   ]
  },
  {
   "cell_type": "code",
   "execution_count": 3,
   "id": "70266324",
   "metadata": {},
   "outputs": [
    {
     "data": {
      "text/html": [
       "<div>\n",
       "<style scoped>\n",
       "    .dataframe tbody tr th:only-of-type {\n",
       "        vertical-align: middle;\n",
       "    }\n",
       "\n",
       "    .dataframe tbody tr th {\n",
       "        vertical-align: top;\n",
       "    }\n",
       "\n",
       "    .dataframe thead th {\n",
       "        text-align: right;\n",
       "    }\n",
       "</style>\n",
       "<table border=\"1\" class=\"dataframe\">\n",
       "  <thead>\n",
       "    <tr style=\"text-align: right;\">\n",
       "      <th></th>\n",
       "      <th>g1_1</th>\n",
       "      <th>g1_2</th>\n",
       "      <th>g1_3</th>\n",
       "      <th>g1_4</th>\n",
       "      <th>g1_5</th>\n",
       "      <th>g1_6</th>\n",
       "      <th>g1_7</th>\n",
       "      <th>g1_8</th>\n",
       "      <th>g1_9</th>\n",
       "      <th>g1_10</th>\n",
       "      <th>...</th>\n",
       "      <th>c_20</th>\n",
       "      <th>c_21</th>\n",
       "      <th>c_22</th>\n",
       "      <th>c_23</th>\n",
       "      <th>c_24</th>\n",
       "      <th>c_25</th>\n",
       "      <th>c_26</th>\n",
       "      <th>c_27</th>\n",
       "      <th>c_28</th>\n",
       "      <th>target</th>\n",
       "    </tr>\n",
       "  </thead>\n",
       "  <tbody>\n",
       "    <tr>\n",
       "      <th>count</th>\n",
       "      <td>6620.00000</td>\n",
       "      <td>6620.00000</td>\n",
       "      <td>6620.00000</td>\n",
       "      <td>6620.00000</td>\n",
       "      <td>6620.00000</td>\n",
       "      <td>6620.00000</td>\n",
       "      <td>6620.00000</td>\n",
       "      <td>6620.00000</td>\n",
       "      <td>6620.00000</td>\n",
       "      <td>6620.00000</td>\n",
       "      <td>...</td>\n",
       "      <td>6620.00000</td>\n",
       "      <td>6620.00000</td>\n",
       "      <td>6620.00000</td>\n",
       "      <td>6620.00000</td>\n",
       "      <td>6620.00000</td>\n",
       "      <td>6620.00000</td>\n",
       "      <td>6620.00000</td>\n",
       "      <td>6620.00000</td>\n",
       "      <td>6620.00000</td>\n",
       "      <td>6620.00000</td>\n",
       "    </tr>\n",
       "    <tr>\n",
       "      <th>mean</th>\n",
       "      <td>2.70878</td>\n",
       "      <td>14.42402</td>\n",
       "      <td>10.48565</td>\n",
       "      <td>24.90967</td>\n",
       "      <td>10.98807</td>\n",
       "      <td>13.41208</td>\n",
       "      <td>10.16103</td>\n",
       "      <td>10.74547</td>\n",
       "      <td>14.16903</td>\n",
       "      <td>3.25106</td>\n",
       "      <td>...</td>\n",
       "      <td>-0.02931</td>\n",
       "      <td>-0.00672</td>\n",
       "      <td>-0.00415</td>\n",
       "      <td>0.00883</td>\n",
       "      <td>0.00000</td>\n",
       "      <td>-0.22843</td>\n",
       "      <td>-0.10373</td>\n",
       "      <td>0.00041</td>\n",
       "      <td>1.91713</td>\n",
       "      <td>1.03172</td>\n",
       "    </tr>\n",
       "    <tr>\n",
       "      <th>std</th>\n",
       "      <td>1.85772</td>\n",
       "      <td>10.70079</td>\n",
       "      <td>8.38420</td>\n",
       "      <td>18.17495</td>\n",
       "      <td>5.63598</td>\n",
       "      <td>10.09003</td>\n",
       "      <td>7.49504</td>\n",
       "      <td>7.96425</td>\n",
       "      <td>9.86673</td>\n",
       "      <td>8.48121</td>\n",
       "      <td>...</td>\n",
       "      <td>1.22075</td>\n",
       "      <td>1.06820</td>\n",
       "      <td>0.66324</td>\n",
       "      <td>0.68342</td>\n",
       "      <td>0.32287</td>\n",
       "      <td>3.39090</td>\n",
       "      <td>1.94442</td>\n",
       "      <td>0.09276</td>\n",
       "      <td>0.30218</td>\n",
       "      <td>0.73104</td>\n",
       "    </tr>\n",
       "    <tr>\n",
       "      <th>min</th>\n",
       "      <td>1.05000</td>\n",
       "      <td>0.00000</td>\n",
       "      <td>0.00000</td>\n",
       "      <td>0.00000</td>\n",
       "      <td>1.00000</td>\n",
       "      <td>0.00000</td>\n",
       "      <td>0.00000</td>\n",
       "      <td>0.00000</td>\n",
       "      <td>0.00000</td>\n",
       "      <td>-27.00000</td>\n",
       "      <td>...</td>\n",
       "      <td>-4.68411</td>\n",
       "      <td>-4.31983</td>\n",
       "      <td>-2.51292</td>\n",
       "      <td>-3.11884</td>\n",
       "      <td>-2.00000</td>\n",
       "      <td>-15.20274</td>\n",
       "      <td>-9.18172</td>\n",
       "      <td>-0.75000</td>\n",
       "      <td>0.00000</td>\n",
       "      <td>0.00000</td>\n",
       "    </tr>\n",
       "    <tr>\n",
       "      <th>25%</th>\n",
       "      <td>1.66700</td>\n",
       "      <td>6.00000</td>\n",
       "      <td>4.00000</td>\n",
       "      <td>10.00000</td>\n",
       "      <td>6.00000</td>\n",
       "      <td>5.00000</td>\n",
       "      <td>4.00000</td>\n",
       "      <td>4.00000</td>\n",
       "      <td>6.00000</td>\n",
       "      <td>-2.00000</td>\n",
       "      <td>...</td>\n",
       "      <td>-0.71641</td>\n",
       "      <td>-0.53122</td>\n",
       "      <td>-0.44041</td>\n",
       "      <td>-0.40681</td>\n",
       "      <td>0.00000</td>\n",
       "      <td>-2.22223</td>\n",
       "      <td>-1.29347</td>\n",
       "      <td>-0.05433</td>\n",
       "      <td>1.71000</td>\n",
       "      <td>0.00000</td>\n",
       "    </tr>\n",
       "    <tr>\n",
       "      <th>50%</th>\n",
       "      <td>2.15000</td>\n",
       "      <td>13.00000</td>\n",
       "      <td>9.00000</td>\n",
       "      <td>22.00000</td>\n",
       "      <td>11.00000</td>\n",
       "      <td>12.00000</td>\n",
       "      <td>9.00000</td>\n",
       "      <td>9.00000</td>\n",
       "      <td>13.00000</td>\n",
       "      <td>1.00000</td>\n",
       "      <td>...</td>\n",
       "      <td>0.00000</td>\n",
       "      <td>0.00000</td>\n",
       "      <td>0.00000</td>\n",
       "      <td>0.00107</td>\n",
       "      <td>0.00000</td>\n",
       "      <td>-0.11938</td>\n",
       "      <td>-0.01249</td>\n",
       "      <td>0.00000</td>\n",
       "      <td>1.85000</td>\n",
       "      <td>1.00000</td>\n",
       "    </tr>\n",
       "    <tr>\n",
       "      <th>75%</th>\n",
       "      <td>2.80000</td>\n",
       "      <td>21.00000</td>\n",
       "      <td>15.00000</td>\n",
       "      <td>36.00000</td>\n",
       "      <td>16.00000</td>\n",
       "      <td>20.00000</td>\n",
       "      <td>15.00000</td>\n",
       "      <td>16.00000</td>\n",
       "      <td>21.00000</td>\n",
       "      <td>7.00000</td>\n",
       "      <td>...</td>\n",
       "      <td>0.65463</td>\n",
       "      <td>0.49050</td>\n",
       "      <td>0.41091</td>\n",
       "      <td>0.45010</td>\n",
       "      <td>0.00000</td>\n",
       "      <td>1.80933</td>\n",
       "      <td>1.03523</td>\n",
       "      <td>0.05483</td>\n",
       "      <td>2.02000</td>\n",
       "      <td>2.00000</td>\n",
       "    </tr>\n",
       "    <tr>\n",
       "      <th>max</th>\n",
       "      <td>23.00000</td>\n",
       "      <td>52.00000</td>\n",
       "      <td>47.00000</td>\n",
       "      <td>94.00000</td>\n",
       "      <td>20.00000</td>\n",
       "      <td>61.00000</td>\n",
       "      <td>43.00000</td>\n",
       "      <td>48.00000</td>\n",
       "      <td>52.00000</td>\n",
       "      <td>48.00000</td>\n",
       "      <td>...</td>\n",
       "      <td>4.82114</td>\n",
       "      <td>4.39628</td>\n",
       "      <td>2.98714</td>\n",
       "      <td>2.83055</td>\n",
       "      <td>2.00000</td>\n",
       "      <td>12.56270</td>\n",
       "      <td>8.20958</td>\n",
       "      <td>0.66667</td>\n",
       "      <td>4.33000</td>\n",
       "      <td>2.00000</td>\n",
       "    </tr>\n",
       "  </tbody>\n",
       "</table>\n",
       "<p>8 rows × 71 columns</p>\n",
       "</div>"
      ],
      "text/plain": [
       "            g1_1       g1_2       g1_3       g1_4       g1_5       g1_6  \\\n",
       "count 6620.00000 6620.00000 6620.00000 6620.00000 6620.00000 6620.00000   \n",
       "mean     2.70878   14.42402   10.48565   24.90967   10.98807   13.41208   \n",
       "std      1.85772   10.70079    8.38420   18.17495    5.63598   10.09003   \n",
       "min      1.05000    0.00000    0.00000    0.00000    1.00000    0.00000   \n",
       "25%      1.66700    6.00000    4.00000   10.00000    6.00000    5.00000   \n",
       "50%      2.15000   13.00000    9.00000   22.00000   11.00000   12.00000   \n",
       "75%      2.80000   21.00000   15.00000   36.00000   16.00000   20.00000   \n",
       "max     23.00000   52.00000   47.00000   94.00000   20.00000   61.00000   \n",
       "\n",
       "            g1_7       g1_8       g1_9      g1_10  ...       c_20       c_21  \\\n",
       "count 6620.00000 6620.00000 6620.00000 6620.00000  ... 6620.00000 6620.00000   \n",
       "mean    10.16103   10.74547   14.16903    3.25106  ...   -0.02931   -0.00672   \n",
       "std      7.49504    7.96425    9.86673    8.48121  ...    1.22075    1.06820   \n",
       "min      0.00000    0.00000    0.00000  -27.00000  ...   -4.68411   -4.31983   \n",
       "25%      4.00000    4.00000    6.00000   -2.00000  ...   -0.71641   -0.53122   \n",
       "50%      9.00000    9.00000   13.00000    1.00000  ...    0.00000    0.00000   \n",
       "75%     15.00000   16.00000   21.00000    7.00000  ...    0.65463    0.49050   \n",
       "max     43.00000   48.00000   52.00000   48.00000  ...    4.82114    4.39628   \n",
       "\n",
       "            c_22       c_23       c_24       c_25       c_26       c_27  \\\n",
       "count 6620.00000 6620.00000 6620.00000 6620.00000 6620.00000 6620.00000   \n",
       "mean    -0.00415    0.00883    0.00000   -0.22843   -0.10373    0.00041   \n",
       "std      0.66324    0.68342    0.32287    3.39090    1.94442    0.09276   \n",
       "min     -2.51292   -3.11884   -2.00000  -15.20274   -9.18172   -0.75000   \n",
       "25%     -0.44041   -0.40681    0.00000   -2.22223   -1.29347   -0.05433   \n",
       "50%      0.00000    0.00107    0.00000   -0.11938   -0.01249    0.00000   \n",
       "75%      0.41091    0.45010    0.00000    1.80933    1.03523    0.05483   \n",
       "max      2.98714    2.83055    2.00000   12.56270    8.20958    0.66667   \n",
       "\n",
       "            c_28     target  \n",
       "count 6620.00000 6620.00000  \n",
       "mean     1.91713    1.03172  \n",
       "std      0.30218    0.73104  \n",
       "min      0.00000    0.00000  \n",
       "25%      1.71000    0.00000  \n",
       "50%      1.85000    1.00000  \n",
       "75%      2.02000    2.00000  \n",
       "max      4.33000    2.00000  \n",
       "\n",
       "[8 rows x 71 columns]"
      ]
     },
     "execution_count": 3,
     "metadata": {},
     "output_type": "execute_result"
    }
   ],
   "source": [
    "dataset.describe()"
   ]
  },
  {
   "cell_type": "code",
   "execution_count": 4,
   "id": "af6a489a",
   "metadata": {},
   "outputs": [
    {
     "data": {
      "text/html": [
       "<div>\n",
       "<style scoped>\n",
       "    .dataframe tbody tr th:only-of-type {\n",
       "        vertical-align: middle;\n",
       "    }\n",
       "\n",
       "    .dataframe tbody tr th {\n",
       "        vertical-align: top;\n",
       "    }\n",
       "\n",
       "    .dataframe thead th {\n",
       "        text-align: right;\n",
       "    }\n",
       "</style>\n",
       "<table border=\"1\" class=\"dataframe\">\n",
       "  <thead>\n",
       "    <tr style=\"text-align: right;\">\n",
       "      <th></th>\n",
       "      <th>g1_1</th>\n",
       "      <th>g1_2</th>\n",
       "      <th>g1_3</th>\n",
       "      <th>g1_4</th>\n",
       "      <th>g1_5</th>\n",
       "      <th>g1_6</th>\n",
       "      <th>g1_7</th>\n",
       "      <th>g1_8</th>\n",
       "      <th>g1_9</th>\n",
       "      <th>g1_10</th>\n",
       "      <th>...</th>\n",
       "      <th>c_20</th>\n",
       "      <th>c_21</th>\n",
       "      <th>c_22</th>\n",
       "      <th>c_23</th>\n",
       "      <th>c_24</th>\n",
       "      <th>c_25</th>\n",
       "      <th>c_26</th>\n",
       "      <th>c_27</th>\n",
       "      <th>c_28</th>\n",
       "      <th>target</th>\n",
       "    </tr>\n",
       "  </thead>\n",
       "  <tbody>\n",
       "    <tr>\n",
       "      <th>0</th>\n",
       "      <td>4.50000</td>\n",
       "      <td>1</td>\n",
       "      <td>3</td>\n",
       "      <td>4</td>\n",
       "      <td>5</td>\n",
       "      <td>1</td>\n",
       "      <td>1</td>\n",
       "      <td>4</td>\n",
       "      <td>6</td>\n",
       "      <td>0</td>\n",
       "      <td>...</td>\n",
       "      <td>-0.38370</td>\n",
       "      <td>-0.06545</td>\n",
       "      <td>0.58400</td>\n",
       "      <td>0.48800</td>\n",
       "      <td>0</td>\n",
       "      <td>-3.23200</td>\n",
       "      <td>-1.94400</td>\n",
       "      <td>-0.00794</td>\n",
       "      <td>1.76000</td>\n",
       "      <td>2</td>\n",
       "    </tr>\n",
       "    <tr>\n",
       "      <th>1</th>\n",
       "      <td>2.20000</td>\n",
       "      <td>24</td>\n",
       "      <td>22</td>\n",
       "      <td>46</td>\n",
       "      <td>10</td>\n",
       "      <td>24</td>\n",
       "      <td>28</td>\n",
       "      <td>18</td>\n",
       "      <td>22</td>\n",
       "      <td>-4</td>\n",
       "      <td>...</td>\n",
       "      <td>-0.34684</td>\n",
       "      <td>-0.15974</td>\n",
       "      <td>-0.94761</td>\n",
       "      <td>0.46354</td>\n",
       "      <td>0</td>\n",
       "      <td>-5.34217</td>\n",
       "      <td>-1.32135</td>\n",
       "      <td>0.18106</td>\n",
       "      <td>1.85000</td>\n",
       "      <td>1</td>\n",
       "    </tr>\n",
       "    <tr>\n",
       "      <th>2</th>\n",
       "      <td>12.00000</td>\n",
       "      <td>7</td>\n",
       "      <td>4</td>\n",
       "      <td>11</td>\n",
       "      <td>18</td>\n",
       "      <td>8</td>\n",
       "      <td>11</td>\n",
       "      <td>2</td>\n",
       "      <td>10</td>\n",
       "      <td>-3</td>\n",
       "      <td>...</td>\n",
       "      <td>-2.67393</td>\n",
       "      <td>-1.59230</td>\n",
       "      <td>0.52530</td>\n",
       "      <td>-0.46717</td>\n",
       "      <td>0</td>\n",
       "      <td>-6.56652</td>\n",
       "      <td>-4.17640</td>\n",
       "      <td>-0.04028</td>\n",
       "      <td>2.05000</td>\n",
       "      <td>2</td>\n",
       "    </tr>\n",
       "    <tr>\n",
       "      <th>3</th>\n",
       "      <td>1.91000</td>\n",
       "      <td>8</td>\n",
       "      <td>5</td>\n",
       "      <td>13</td>\n",
       "      <td>14</td>\n",
       "      <td>6</td>\n",
       "      <td>7</td>\n",
       "      <td>6</td>\n",
       "      <td>9</td>\n",
       "      <td>-1</td>\n",
       "      <td>...</td>\n",
       "      <td>0.61603</td>\n",
       "      <td>0.40494</td>\n",
       "      <td>-1.50692</td>\n",
       "      <td>0.74196</td>\n",
       "      <td>0</td>\n",
       "      <td>-2.43812</td>\n",
       "      <td>-0.78713</td>\n",
       "      <td>-0.01210</td>\n",
       "      <td>1.82000</td>\n",
       "      <td>0</td>\n",
       "    </tr>\n",
       "    <tr>\n",
       "      <th>4</th>\n",
       "      <td>2.50000</td>\n",
       "      <td>23</td>\n",
       "      <td>16</td>\n",
       "      <td>39</td>\n",
       "      <td>14</td>\n",
       "      <td>33</td>\n",
       "      <td>25</td>\n",
       "      <td>18</td>\n",
       "      <td>27</td>\n",
       "      <td>8</td>\n",
       "      <td>...</td>\n",
       "      <td>-1.05721</td>\n",
       "      <td>-1.15929</td>\n",
       "      <td>0.75101</td>\n",
       "      <td>-0.18205</td>\n",
       "      <td>0</td>\n",
       "      <td>-1.25973</td>\n",
       "      <td>0.05957</td>\n",
       "      <td>0.04261</td>\n",
       "      <td>1.99000</td>\n",
       "      <td>2</td>\n",
       "    </tr>\n",
       "  </tbody>\n",
       "</table>\n",
       "<p>5 rows × 71 columns</p>\n",
       "</div>"
      ],
      "text/plain": [
       "      g1_1  g1_2  g1_3  g1_4  g1_5  g1_6  g1_7  g1_8  g1_9  g1_10  ...  \\\n",
       "0  4.50000     1     3     4     5     1     1     4     6      0  ...   \n",
       "1  2.20000    24    22    46    10    24    28    18    22     -4  ...   \n",
       "2 12.00000     7     4    11    18     8    11     2    10     -3  ...   \n",
       "3  1.91000     8     5    13    14     6     7     6     9     -1  ...   \n",
       "4  2.50000    23    16    39    14    33    25    18    27      8  ...   \n",
       "\n",
       "      c_20     c_21     c_22     c_23  c_24     c_25     c_26     c_27  \\\n",
       "0 -0.38370 -0.06545  0.58400  0.48800     0 -3.23200 -1.94400 -0.00794   \n",
       "1 -0.34684 -0.15974 -0.94761  0.46354     0 -5.34217 -1.32135  0.18106   \n",
       "2 -2.67393 -1.59230  0.52530 -0.46717     0 -6.56652 -4.17640 -0.04028   \n",
       "3  0.61603  0.40494 -1.50692  0.74196     0 -2.43812 -0.78713 -0.01210   \n",
       "4 -1.05721 -1.15929  0.75101 -0.18205     0 -1.25973  0.05957  0.04261   \n",
       "\n",
       "     c_28  target  \n",
       "0 1.76000       2  \n",
       "1 1.85000       1  \n",
       "2 2.05000       2  \n",
       "3 1.82000       0  \n",
       "4 1.99000       2  \n",
       "\n",
       "[5 rows x 71 columns]"
      ]
     },
     "execution_count": 4,
     "metadata": {},
     "output_type": "execute_result"
    }
   ],
   "source": [
    "dataset.head()"
   ]
  },
  {
   "cell_type": "code",
   "execution_count": 5,
   "id": "e629027d",
   "metadata": {},
   "outputs": [
    {
     "data": {
      "text/plain": [
       "6620"
      ]
     },
     "execution_count": 5,
     "metadata": {},
     "output_type": "execute_result"
    }
   ],
   "source": [
    "y = data[:, 70]\n",
    "len(y)"
   ]
  },
  {
   "cell_type": "code",
   "execution_count": 6,
   "id": "27dacb3c",
   "metadata": {},
   "outputs": [
    {
     "data": {
      "text/plain": [
       "6620"
      ]
     },
     "execution_count": 6,
     "metadata": {},
     "output_type": "execute_result"
    }
   ],
   "source": [
    "X = data[:, [i for i in range(69)]]\n",
    "len(X)"
   ]
  },
  {
   "cell_type": "code",
   "execution_count": null,
   "id": "9eb9fb0c",
   "metadata": {},
   "outputs": [],
   "source": []
  },
  {
   "cell_type": "code",
   "execution_count": 7,
   "id": "c3df9be1",
   "metadata": {},
   "outputs": [
    {
     "data": {
      "text/plain": [
       "<AxesSubplot:xlabel='target', ylabel='count'>"
      ]
     },
     "execution_count": 7,
     "metadata": {},
     "output_type": "execute_result"
    },
    {
     "data": {
      "image/png": "[encoded data removed]",
      "text/plain": [
       "<Figure size 432x288 with 1 Axes>"
      ]
     },
     "metadata": {
      "needs_background": "light"
     },
     "output_type": "display_data"
    }
   ],
   "source": [
    "sns.countplot(dataset['target'])"
   ]
  },
  {
   "cell_type": "code",
   "execution_count": 8,
   "id": "b0ed63a4",
   "metadata": {},
   "outputs": [
    {
     "data": {
      "text/plain": [
       "<AxesSubplot:>"
      ]
     },
     "execution_count": 8,
     "metadata": {},
     "output_type": "execute_result"
    },
    {
     "data": {
      "image/png": "[encoded data removed]",
      "text/plain": [
       "<Figure size 864x864 with 2 Axes>"
      ]
     },
     "metadata": {
      "needs_background": "light"
     },
     "output_type": "display_data"
    }
   ],
   "source": [
    "corr = dataset.corr()\n",
    "figure(num=None, figsize=(12, 12))\n",
    "\n",
    "sns.heatmap(corr)"
   ]
  },
  {
   "cell_type": "code",
   "execution_count": 9,
   "id": "82f0d4b3",
   "metadata": {},
   "outputs": [
    {
     "data": {
      "text/plain": [
       "g1_1      0.23235\n",
       "g1_2     -0.04270\n",
       "g1_3     -0.06241\n",
       "g1_4     -0.05393\n",
       "g1_5      0.08791\n",
       "           ...   \n",
       "c_25     -0.14781\n",
       "c_26     -0.14923\n",
       "c_27     -0.06214\n",
       "c_28      0.02135\n",
       "target    1.00000\n",
       "Name: target, Length: 71, dtype: float64"
      ]
     },
     "execution_count": 9,
     "metadata": {},
     "output_type": "execute_result"
    }
   ],
   "source": [
    "corr_target = corr['target']\n",
    "corr_target"
   ]
  },
  {
   "cell_type": "code",
   "execution_count": 10,
   "id": "85de1320",
   "metadata": {},
   "outputs": [
    {
     "name": "stdout",
     "output_type": "stream",
     "text": [
      "g1_1 variable nº 0 --->  0.23234998298116402\n",
      "g2_12 variable nº 32 --->  0.1444494516419163\n",
      "c_2 variable nº 43 --->  -0.2193705322455647\n",
      "c_8 variable nº 49 --->  0.1623622633170268\n",
      "c_10 variable nº 51 --->  -0.14252631261891102\n",
      "c_11 variable nº 52 --->  -0.13278657221053797\n",
      "c_12 variable nº 53 --->  -0.1671398508042021\n",
      "c_17 variable nº 58 --->  -0.14114322953729388\n",
      "c_18 variable nº 59 --->  -0.13966477347227788\n",
      "c_19 variable nº 60 --->  -0.16422370856431018\n",
      "c_20 variable nº 61 --->  -0.16283372001064464\n",
      "c_21 variable nº 62 --->  -0.15716332153873439\n",
      "c_25 variable nº 66 --->  -0.14781332510114145\n",
      "c_26 variable nº 67 --->  -0.14923256464569457\n"
     ]
    }
   ],
   "source": [
    "#Variable list with correlation to target higher than a threshold\n",
    "threshold = 0.13\n",
    "for i in range(70):\n",
    "    if corr_target[i] <-threshold or corr_target[i] >threshold:\n",
    "        print(str(dataset.columns.values[i]) + \" variable nº \"+str(i)+ \" --->  \" + str(corr_target[i]))\n",
    "        "
   ]
  },
  {
   "cell_type": "markdown",
   "id": "bfe9fb0f",
   "metadata": {},
   "source": [
    "## Preprocessing"
   ]
  },
  {
   "cell_type": "code",
   "execution_count": 11,
   "id": "82ee3353",
   "metadata": {},
   "outputs": [
    {
     "data": {
      "text/plain": [
       "array([[ 4.50000000e+00,  1.00000000e+00,  3.00000000e+00, ...,\n",
       "        -3.23200000e+00, -1.94400000e+00, -7.94352044e-03],\n",
       "       [ 2.20000000e+00,  2.40000000e+01,  2.20000000e+01, ...,\n",
       "        -5.34217368e+00, -1.32135450e+00,  1.81063922e-01],\n",
       "       [ 1.20000000e+01,  7.00000000e+00,  4.00000000e+00, ...,\n",
       "        -6.56652100e+00, -4.17640335e+00, -4.02769281e-02],\n",
       "       ...,\n",
       "       [ 2.50000000e+00,  5.00000000e+00,  8.00000000e+00, ...,\n",
       "         1.74344441e+00,  1.15972509e+00,  1.91948723e-02],\n",
       "       [ 1.80000000e+00,  5.00000000e+00,  4.00000000e+00, ...,\n",
       "         1.95916800e+00,  1.39641600e+00,  7.11798746e-02],\n",
       "       [ 1.95000000e+00,  3.50000000e+01,  3.70000000e+01, ...,\n",
       "        -3.36965072e+00, -4.92462849e-01,  4.25231278e-02]])"
      ]
     },
     "execution_count": 11,
     "metadata": {},
     "output_type": "execute_result"
    }
   ],
   "source": [
    "#PCA, fem una copia de els atributs per a fer pca\n",
    "pcaX = X\n",
    "pcaX"
   ]
  },
  {
   "cell_type": "code",
   "execution_count": 12,
   "id": "47cfcd33",
   "metadata": {},
   "outputs": [],
   "source": [
    "pca = PCA()\n",
    "pca.fit(pcaX)\n",
    "pca_data = pca.transform(pcaX)\n",
    "per_var = pca.explained_variance_ratio_*100 \n",
    "cumulative_sum = np.cumsum(per_var)"
   ]
  },
  {
   "cell_type": "code",
   "execution_count": 13,
   "id": "1c7e743f",
   "metadata": {},
   "outputs": [
    {
     "data": {
      "text/plain": [
       "array([ 40.58060485,  76.00490022,  89.12409619,  91.84085198,\n",
       "        93.56986026,  94.72502376,  95.72022063,  96.51322355,\n",
       "        97.07658297,  97.62606317,  98.03998547,  98.38953168,\n",
       "        98.70060142,  98.94405271,  99.1717079 ,  99.376144  ,\n",
       "        99.54786856,  99.69940079,  99.80045925,  99.85014789,\n",
       "        99.88904337,  99.92393842,  99.94568227,  99.95739638,\n",
       "        99.96554566,  99.97184245,  99.97637602,  99.98041544,\n",
       "        99.98418322,  99.98740058,  99.99032549,  99.99260462,\n",
       "        99.99478206,  99.99673691,  99.99790655,  99.99842093,\n",
       "        99.99882661,  99.99910082,  99.99932818,  99.99954189,\n",
       "        99.99970953,  99.99981132,  99.99990674, 100.        ,\n",
       "       100.        , 100.        , 100.        , 100.        ,\n",
       "       100.        , 100.        , 100.        , 100.        ,\n",
       "       100.        , 100.        , 100.        , 100.        ,\n",
       "       100.        , 100.        , 100.        , 100.        ,\n",
       "       100.        , 100.        , 100.        , 100.        ,\n",
       "       100.        , 100.        , 100.        , 100.        ,\n",
       "       100.        ])"
      ]
     },
     "execution_count": 13,
     "metadata": {},
     "output_type": "execute_result"
    }
   ],
   "source": [
    "cumulative_sum"
   ]
  },
  {
   "cell_type": "code",
   "execution_count": 14,
   "id": "d340eaae",
   "metadata": {},
   "outputs": [
    {
     "data": {
      "image/png": "[encoded data removed]",
      "text/plain": [
       "<Figure size 432x288 with 1 Axes>"
      ]
     },
     "metadata": {
      "needs_background": "light"
     },
     "output_type": "display_data"
    }
   ],
   "source": [
    "#Plot of % of cumulative variance by number of variables, by the numbers on the previous\n",
    "#cell we can see that we can attain a 95% of cumulative variance with only 7 atributes.\n",
    "\n",
    "plt.step(range(0,len(cumulative_sum)), cumulative_sum, where='mid', color=\"green\",label='cumulative variance')\n",
    "plt.axhline(y=95, color='red', linestyle='--',label='threshold: var = 90%')\n",
    "plt.legend() \n",
    "plt.show()"
   ]
  },
  {
   "cell_type": "code",
   "execution_count": 15,
   "id": "97ff21d7",
   "metadata": {},
   "outputs": [
    {
     "data": {
      "image/png": "[encoded data removed]",
      "text/plain": [
       "<Figure size 720x360 with 1 Axes>"
      ]
     },
     "metadata": {
      "needs_background": "light"
     },
     "output_type": "display_data"
    }
   ],
   "source": [
    "#Plot of % of explained variance\n",
    "plt.figure(figsize=(10,5))\n",
    "#sns.stripplot(x=xs, y=per_var)\n",
    "plt.bar(x=range(1, len(per_var)+1), height=per_var, width=1, color=\"blue\", linewidth=0.5)\n",
    "plt.show()"
   ]
  },
  {
   "cell_type": "code",
   "execution_count": 16,
   "id": "68da6133",
   "metadata": {},
   "outputs": [
    {
     "data": {
      "text/html": [
       "<div>\n",
       "<style scoped>\n",
       "    .dataframe tbody tr th:only-of-type {\n",
       "        vertical-align: middle;\n",
       "    }\n",
       "\n",
       "    .dataframe tbody tr th {\n",
       "        vertical-align: top;\n",
       "    }\n",
       "\n",
       "    .dataframe thead th {\n",
       "        text-align: right;\n",
       "    }\n",
       "</style>\n",
       "<table border=\"1\" class=\"dataframe\">\n",
       "  <thead>\n",
       "    <tr style=\"text-align: right;\">\n",
       "      <th></th>\n",
       "      <th>PC1</th>\n",
       "      <th>PC2</th>\n",
       "      <th>PC3</th>\n",
       "      <th>PC4</th>\n",
       "      <th>PC5</th>\n",
       "      <th>PC6</th>\n",
       "      <th>PC7</th>\n",
       "    </tr>\n",
       "  </thead>\n",
       "  <tbody>\n",
       "    <tr>\n",
       "      <th>0</th>\n",
       "      <td>-5.90273</td>\n",
       "      <td>-43.11757</td>\n",
       "      <td>-13.58131</td>\n",
       "      <td>6.83703</td>\n",
       "      <td>-2.85664</td>\n",
       "      <td>-3.98388</td>\n",
       "      <td>-4.76238</td>\n",
       "    </tr>\n",
       "    <tr>\n",
       "      <th>1</th>\n",
       "      <td>-14.93590</td>\n",
       "      <td>43.07816</td>\n",
       "      <td>17.14840</td>\n",
       "      <td>-5.70284</td>\n",
       "      <td>-13.31668</td>\n",
       "      <td>-9.58449</td>\n",
       "      <td>8.78940</td>\n",
       "    </tr>\n",
       "    <tr>\n",
       "      <th>2</th>\n",
       "      <td>-61.61500</td>\n",
       "      <td>-16.09908</td>\n",
       "      <td>-22.24968</td>\n",
       "      <td>-10.85921</td>\n",
       "      <td>9.40251</td>\n",
       "      <td>1.97847</td>\n",
       "      <td>2.55219</td>\n",
       "    </tr>\n",
       "    <tr>\n",
       "      <th>3</th>\n",
       "      <td>17.44452</td>\n",
       "      <td>-31.32771</td>\n",
       "      <td>12.53422</td>\n",
       "      <td>-1.02831</td>\n",
       "      <td>-3.29365</td>\n",
       "      <td>6.67725</td>\n",
       "      <td>-4.34045</td>\n",
       "    </tr>\n",
       "    <tr>\n",
       "      <th>4</th>\n",
       "      <td>-23.47523</td>\n",
       "      <td>50.27620</td>\n",
       "      <td>9.05688</td>\n",
       "      <td>-1.84171</td>\n",
       "      <td>6.38836</td>\n",
       "      <td>-3.24868</td>\n",
       "      <td>14.75131</td>\n",
       "    </tr>\n",
       "    <tr>\n",
       "      <th>...</th>\n",
       "      <td>...</td>\n",
       "      <td>...</td>\n",
       "      <td>...</td>\n",
       "      <td>...</td>\n",
       "      <td>...</td>\n",
       "      <td>...</td>\n",
       "      <td>...</td>\n",
       "    </tr>\n",
       "    <tr>\n",
       "      <th>6615</th>\n",
       "      <td>6.62024</td>\n",
       "      <td>-34.83419</td>\n",
       "      <td>-25.72939</td>\n",
       "      <td>-0.33348</td>\n",
       "      <td>-4.17543</td>\n",
       "      <td>-7.17105</td>\n",
       "      <td>-7.51110</td>\n",
       "    </tr>\n",
       "    <tr>\n",
       "      <th>6616</th>\n",
       "      <td>34.76567</td>\n",
       "      <td>-0.91862</td>\n",
       "      <td>2.55889</td>\n",
       "      <td>-2.59402</td>\n",
       "      <td>2.34763</td>\n",
       "      <td>-1.82334</td>\n",
       "      <td>4.34505</td>\n",
       "    </tr>\n",
       "    <tr>\n",
       "      <th>6617</th>\n",
       "      <td>-4.84531</td>\n",
       "      <td>-26.28720</td>\n",
       "      <td>-3.88406</td>\n",
       "      <td>-25.60577</td>\n",
       "      <td>0.60583</td>\n",
       "      <td>4.01539</td>\n",
       "      <td>-3.86325</td>\n",
       "    </tr>\n",
       "    <tr>\n",
       "      <th>6618</th>\n",
       "      <td>10.39394</td>\n",
       "      <td>-40.51628</td>\n",
       "      <td>-7.89616</td>\n",
       "      <td>0.16797</td>\n",
       "      <td>0.70393</td>\n",
       "      <td>2.14239</td>\n",
       "      <td>0.50100</td>\n",
       "    </tr>\n",
       "    <tr>\n",
       "      <th>6619</th>\n",
       "      <td>30.97834</td>\n",
       "      <td>74.54909</td>\n",
       "      <td>-29.27503</td>\n",
       "      <td>-28.69810</td>\n",
       "      <td>-8.96626</td>\n",
       "      <td>6.04938</td>\n",
       "      <td>-7.07967</td>\n",
       "    </tr>\n",
       "  </tbody>\n",
       "</table>\n",
       "<p>6620 rows × 7 columns</p>\n",
       "</div>"
      ],
      "text/plain": [
       "           PC1       PC2       PC3       PC4       PC5      PC6      PC7\n",
       "0     -5.90273 -43.11757 -13.58131   6.83703  -2.85664 -3.98388 -4.76238\n",
       "1    -14.93590  43.07816  17.14840  -5.70284 -13.31668 -9.58449  8.78940\n",
       "2    -61.61500 -16.09908 -22.24968 -10.85921   9.40251  1.97847  2.55219\n",
       "3     17.44452 -31.32771  12.53422  -1.02831  -3.29365  6.67725 -4.34045\n",
       "4    -23.47523  50.27620   9.05688  -1.84171   6.38836 -3.24868 14.75131\n",
       "...        ...       ...       ...       ...       ...      ...      ...\n",
       "6615   6.62024 -34.83419 -25.72939  -0.33348  -4.17543 -7.17105 -7.51110\n",
       "6616  34.76567  -0.91862   2.55889  -2.59402   2.34763 -1.82334  4.34505\n",
       "6617  -4.84531 -26.28720  -3.88406 -25.60577   0.60583  4.01539 -3.86325\n",
       "6618  10.39394 -40.51628  -7.89616   0.16797   0.70393  2.14239  0.50100\n",
       "6619  30.97834  74.54909 -29.27503 -28.69810  -8.96626  6.04938 -7.07967\n",
       "\n",
       "[6620 rows x 7 columns]"
      ]
     },
     "execution_count": 16,
     "metadata": {},
     "output_type": "execute_result"
    }
   ],
   "source": [
    "labels = ['PC'+str(i) for i in range(1, 8)]\n",
    "pca_variables = pd.DataFrame(pca_data[:,:7], columns=labels)\n",
    "pca_variables"
   ]
  },
  {
   "cell_type": "code",
   "execution_count": 17,
   "id": "bedeac62",
   "metadata": {},
   "outputs": [
    {
     "data": {
      "text/html": [
       "<div>\n",
       "<style scoped>\n",
       "    .dataframe tbody tr th:only-of-type {\n",
       "        vertical-align: middle;\n",
       "    }\n",
       "\n",
       "    .dataframe tbody tr th {\n",
       "        vertical-align: top;\n",
       "    }\n",
       "\n",
       "    .dataframe thead th {\n",
       "        text-align: right;\n",
       "    }\n",
       "</style>\n",
       "<table border=\"1\" class=\"dataframe\">\n",
       "  <thead>\n",
       "    <tr style=\"text-align: right;\">\n",
       "      <th></th>\n",
       "      <th>PC1</th>\n",
       "      <th>PC2</th>\n",
       "      <th>PC3</th>\n",
       "      <th>PC4</th>\n",
       "      <th>PC5</th>\n",
       "      <th>PC6</th>\n",
       "      <th>PC7</th>\n",
       "      <th>target</th>\n",
       "    </tr>\n",
       "  </thead>\n",
       "  <tbody>\n",
       "    <tr>\n",
       "      <th>count</th>\n",
       "      <td>6620.00000</td>\n",
       "      <td>6620.00000</td>\n",
       "      <td>6620.00000</td>\n",
       "      <td>6620.00000</td>\n",
       "      <td>6620.00000</td>\n",
       "      <td>6620.00000</td>\n",
       "      <td>6620.00000</td>\n",
       "      <td>6620.00000</td>\n",
       "    </tr>\n",
       "    <tr>\n",
       "      <th>mean</th>\n",
       "      <td>0.00000</td>\n",
       "      <td>0.00000</td>\n",
       "      <td>-0.00000</td>\n",
       "      <td>0.00000</td>\n",
       "      <td>-0.00000</td>\n",
       "      <td>0.00000</td>\n",
       "      <td>0.00000</td>\n",
       "      <td>1.03172</td>\n",
       "    </tr>\n",
       "    <tr>\n",
       "      <th>std</th>\n",
       "      <td>39.91978</td>\n",
       "      <td>37.29748</td>\n",
       "      <td>22.69773</td>\n",
       "      <td>10.32890</td>\n",
       "      <td>8.24000</td>\n",
       "      <td>6.73520</td>\n",
       "      <td>6.25149</td>\n",
       "      <td>0.73104</td>\n",
       "    </tr>\n",
       "    <tr>\n",
       "      <th>min</th>\n",
       "      <td>-183.04645</td>\n",
       "      <td>-57.55747</td>\n",
       "      <td>-90.31827</td>\n",
       "      <td>-40.82619</td>\n",
       "      <td>-33.76105</td>\n",
       "      <td>-27.07084</td>\n",
       "      <td>-26.22214</td>\n",
       "      <td>0.00000</td>\n",
       "    </tr>\n",
       "    <tr>\n",
       "      <th>25%</th>\n",
       "      <td>-18.58508</td>\n",
       "      <td>-31.04128</td>\n",
       "      <td>-14.95275</td>\n",
       "      <td>-5.94748</td>\n",
       "      <td>-4.67315</td>\n",
       "      <td>-3.81940</td>\n",
       "      <td>-3.55583</td>\n",
       "      <td>0.00000</td>\n",
       "    </tr>\n",
       "    <tr>\n",
       "      <th>50%</th>\n",
       "      <td>1.95104</td>\n",
       "      <td>-3.40645</td>\n",
       "      <td>-3.99127</td>\n",
       "      <td>0.62135</td>\n",
       "      <td>0.16575</td>\n",
       "      <td>0.08707</td>\n",
       "      <td>-0.16730</td>\n",
       "      <td>1.00000</td>\n",
       "    </tr>\n",
       "    <tr>\n",
       "      <th>75%</th>\n",
       "      <td>18.68772</td>\n",
       "      <td>25.98916</td>\n",
       "      <td>12.65907</td>\n",
       "      <td>5.75896</td>\n",
       "      <td>4.74892</td>\n",
       "      <td>3.82395</td>\n",
       "      <td>3.42777</td>\n",
       "      <td>2.00000</td>\n",
       "    </tr>\n",
       "    <tr>\n",
       "      <th>max</th>\n",
       "      <td>199.85785</td>\n",
       "      <td>137.17668</td>\n",
       "      <td>108.89680</td>\n",
       "      <td>44.45466</td>\n",
       "      <td>43.47900</td>\n",
       "      <td>35.39937</td>\n",
       "      <td>28.18796</td>\n",
       "      <td>2.00000</td>\n",
       "    </tr>\n",
       "  </tbody>\n",
       "</table>\n",
       "</div>"
      ],
      "text/plain": [
       "             PC1        PC2        PC3        PC4        PC5        PC6  \\\n",
       "count 6620.00000 6620.00000 6620.00000 6620.00000 6620.00000 6620.00000   \n",
       "mean     0.00000    0.00000   -0.00000    0.00000   -0.00000    0.00000   \n",
       "std     39.91978   37.29748   22.69773   10.32890    8.24000    6.73520   \n",
       "min   -183.04645  -57.55747  -90.31827  -40.82619  -33.76105  -27.07084   \n",
       "25%    -18.58508  -31.04128  -14.95275   -5.94748   -4.67315   -3.81940   \n",
       "50%      1.95104   -3.40645   -3.99127    0.62135    0.16575    0.08707   \n",
       "75%     18.68772   25.98916   12.65907    5.75896    4.74892    3.82395   \n",
       "max    199.85785  137.17668  108.89680   44.45466   43.47900   35.39937   \n",
       "\n",
       "             PC7     target  \n",
       "count 6620.00000 6620.00000  \n",
       "mean     0.00000    1.03172  \n",
       "std      6.25149    0.73104  \n",
       "min    -26.22214    0.00000  \n",
       "25%     -3.55583    0.00000  \n",
       "50%     -0.16730    1.00000  \n",
       "75%      3.42777    2.00000  \n",
       "max     28.18796    2.00000  "
      ]
     },
     "execution_count": 17,
     "metadata": {},
     "output_type": "execute_result"
    }
   ],
   "source": [
    "final_dataset = pca_variables\n",
    "final_dataset.insert(7, \"target\", y, True)\n",
    "final_dataset.describe()"
   ]
  },
  {
   "cell_type": "code",
   "execution_count": null,
   "id": "b6957a08",
   "metadata": {},
   "outputs": [],
   "source": []
  },
  {
   "cell_type": "code",
   "execution_count": null,
   "id": "fa5eb11c",
   "metadata": {},
   "outputs": [],
   "source": []
  },
  {
   "cell_type": "code",
   "execution_count": null,
   "id": "9e059889",
   "metadata": {},
   "outputs": [],
   "source": []
  },
  {
   "cell_type": "markdown",
   "id": "6fe5558a",
   "metadata": {},
   "source": [
    "## Model testing"
   ]
  },
  {
   "cell_type": "markdown",
   "id": "b489cd1f",
   "metadata": {},
   "source": [
    "### Original Dataset models"
   ]
  },
  {
   "cell_type": "code",
   "execution_count": 18,
   "id": "83bb8dce",
   "metadata": {},
   "outputs": [],
   "source": [
    "#fem servir els atributs que hem vist abans amb major correlació amb target\n",
    "orX = data[:,[0,32,43,49,51,52,53,58,59,60,61,62,66,67]]"
   ]
  },
  {
   "cell_type": "code",
   "execution_count": 19,
   "id": "5c4fc4b5",
   "metadata": {},
   "outputs": [],
   "source": [
    "ox_t, ox_v, oy_t, oy_v = train_test_split(orX, y, train_size=0.7)"
   ]
  },
  {
   "cell_type": "code",
   "execution_count": 20,
   "id": "1fb03d91",
   "metadata": {},
   "outputs": [],
   "source": [
    "scaler = preprocessing.StandardScaler().fit(ox_t)\n",
    "X_scaled = scaler.transform(ox_t)"
   ]
  },
  {
   "cell_type": "code",
   "execution_count": 21,
   "id": "a844d0b2",
   "metadata": {},
   "outputs": [
    {
     "name": "stdout",
     "output_type": "stream",
     "text": [
      "Correct classification Logistic  80.0 % of the data:  0.5795568982880162\n",
      "              precision    recall  f1-score   support\n",
      "\n",
      "         0.0       0.50      0.00      0.00       501\n",
      "         1.0       0.59      0.86      0.70       930\n",
      "         2.0       0.55      0.63      0.59       555\n",
      "\n",
      "    accuracy                           0.58      1986\n",
      "   macro avg       0.55      0.50      0.43      1986\n",
      "weighted avg       0.56      0.58      0.49      1986\n",
      "\n"
     ]
    }
   ],
   "source": [
    "logireg = LogisticRegression(C=2, fit_intercept=True, penalty='l2', tol=0.001, max_iter = 1000000)\n",
    "logireg.fit(ox_t, oy_t)\n",
    "print (\"Correct classification Logistic \", 0.8*100, \"% of the data: \", logireg.score(ox_v, oy_v))\n",
    "print(metrics.classification_report(oy_v, logireg.predict(ox_v)))"
   ]
  },
  {
   "cell_type": "code",
   "execution_count": 22,
   "id": "c88499da",
   "metadata": {},
   "outputs": [
    {
     "name": "stdout",
     "output_type": "stream",
     "text": [
      "\n",
      "\n",
      "Correct classification SVM Linear  70.0 % of the data:  0.5634441087613293\n",
      "              precision    recall  f1-score   support\n",
      "\n",
      "         0.0       0.29      0.05      0.08       501\n",
      "         1.0       0.60      0.82      0.69       930\n",
      "         2.0       0.52      0.61      0.56       555\n",
      "\n",
      "    accuracy                           0.56      1986\n",
      "   macro avg       0.47      0.49      0.45      1986\n",
      "weighted avg       0.50      0.56      0.50      1986\n",
      "\n"
     ]
    }
   ],
   "source": [
    "svcLin = svm.LinearSVC(C=10, max_iter=10000)\n",
    "svcLin.fit(X_scaled,oy_t)\n",
    "print (\"\\n\\nCorrect classification SVM Linear \", 0.7*100, \"% of the data: \", svcLin.score(ox_v, oy_v))\n",
    "print(metrics.classification_report(oy_v, svcLin.predict(ox_v)))"
   ]
  },
  {
   "cell_type": "code",
   "execution_count": 23,
   "id": "b58037dc",
   "metadata": {},
   "outputs": [
    {
     "name": "stdout",
     "output_type": "stream",
     "text": [
      "0.5715005035246727\n"
     ]
    }
   ],
   "source": [
    "clf = RandomForestClassifier(n_estimators=100, random_state=0)\n",
    "clf.fit(ox_t, oy_t)\n",
    "print(clf.score(ox_v, oy_v))"
   ]
  },
  {
   "cell_type": "code",
   "execution_count": 24,
   "id": "8300d380",
   "metadata": {},
   "outputs": [
    {
     "name": "stdout",
     "output_type": "stream",
     "text": [
      "Score of Histogram-based Gradient Boosting Regression Tree:  0.5609264853977844\n"
     ]
    }
   ],
   "source": [
    "hgb = HistGradientBoostingClassifier()\n",
    "hgb.fit(ox_t, oy_t)\n",
    "ls_preds = hgb.predict(ox_v)\n",
    "print('Score of Histogram-based Gradient Boosting Regression Tree: ', hgb.score(ox_v,oy_v))"
   ]
  },
  {
   "cell_type": "code",
   "execution_count": 25,
   "id": "f1033cee",
   "metadata": {},
   "outputs": [
    {
     "name": "stdout",
     "output_type": "stream",
     "text": [
      "LR-Bagging accuracy: 58.25780463242699 %\n"
     ]
    }
   ],
   "source": [
    "clf_lr = BaggingClassifier(base_estimator=LogisticRegression(C=2.0, fit_intercept=True, penalty='l2', tol=0.001), n_estimators=10, random_state=0).fit(ox_t, oy_t)\n",
    "print(\"LR-Bagging accuracy: \"+str(100*clf_lr.score(ox_v, oy_v)), \"%\")"
   ]
  },
  {
   "cell_type": "code",
   "execution_count": 26,
   "id": "f494df17",
   "metadata": {},
   "outputs": [
    {
     "name": "stdout",
     "output_type": "stream",
     "text": [
      "1 AdaBoost accuracy: 59.315206445115805\n",
      "2 AdaBoost accuracy: 59.315206445115805\n",
      "5 AdaBoost accuracy: 59.11379657603223\n",
      "10 AdaBoost accuracy: 58.81168177240684\n"
     ]
    }
   ],
   "source": [
    "for est in [1,2,5,10]:\n",
    "    a = AdaBoostClassifier(n_estimators=est).fit(ox_t, oy_t)\n",
    "    print(str(est)+\" AdaBoost accuracy: \"+str(100*(a.score(ox_v,oy_v))))"
   ]
  },
  {
   "cell_type": "code",
   "execution_count": null,
   "id": "6c9ffc82",
   "metadata": {},
   "outputs": [],
   "source": []
  },
  {
   "cell_type": "code",
   "execution_count": null,
   "id": "e1f9ee7c",
   "metadata": {},
   "outputs": [],
   "source": []
  },
  {
   "cell_type": "markdown",
   "id": "de716a0d",
   "metadata": {},
   "source": [
    "### PCA dataset models"
   ]
  },
  {
   "cell_type": "code",
   "execution_count": 27,
   "id": "fbdd7923",
   "metadata": {},
   "outputs": [],
   "source": [
    "x_t, x_v, y_t, y_v = train_test_split(pca_variables, y, train_size=0.7)"
   ]
  },
  {
   "cell_type": "code",
   "execution_count": 28,
   "id": "3696bef5",
   "metadata": {},
   "outputs": [
    {
     "name": "stdout",
     "output_type": "stream",
     "text": [
      "Correct classification Logistic  70.0 % of the data:  1.0\n",
      "              precision    recall  f1-score   support\n",
      "\n",
      "         0.0       1.00      1.00      1.00       485\n",
      "         1.0       1.00      1.00      1.00       923\n",
      "         2.0       1.00      1.00      1.00       578\n",
      "\n",
      "    accuracy                           1.00      1986\n",
      "   macro avg       1.00      1.00      1.00      1986\n",
      "weighted avg       1.00      1.00      1.00      1986\n",
      "\n"
     ]
    }
   ],
   "source": [
    "logireg = LogisticRegression(C=2.0, fit_intercept=True, penalty='l2', tol=0.001)\n",
    "logireg.fit(x_t, y_t)\n",
    "print (\"Correct classification Logistic \", 0.7*100, \"% of the data: \", logireg.score(x_v, y_v))\n",
    "print(metrics.classification_report(y_v, logireg.predict(x_v)))"
   ]
  },
  {
   "cell_type": "code",
   "execution_count": 29,
   "id": "4de421ed",
   "metadata": {},
   "outputs": [
    {
     "name": "stdout",
     "output_type": "stream",
     "text": [
      "\n",
      "\n",
      "Correct classification SVM Linear  70.0 % of the data:  0.905840886203424\n",
      "              precision    recall  f1-score   support\n",
      "\n",
      "         0.0       1.00      0.92      0.96       485\n",
      "         1.0       0.88      0.93      0.90       923\n",
      "         2.0       0.88      0.86      0.87       578\n",
      "\n",
      "    accuracy                           0.91      1986\n",
      "   macro avg       0.92      0.90      0.91      1986\n",
      "weighted avg       0.91      0.91      0.91      1986\n",
      "\n"
     ]
    }
   ],
   "source": [
    "svcLin = svm.LinearSVC(C=10, max_iter=10000)\n",
    "svcLin.fit(x_t,y_t)\n",
    "print (\"\\n\\nCorrect classification SVM Linear \", 0.7*100, \"% of the data: \", svcLin.score(x_v, y_v))\n",
    "print(metrics.classification_report(y_v, svcLin.predict(x_v)))  "
   ]
  },
  {
   "cell_type": "code",
   "execution_count": 30,
   "id": "628fc383",
   "metadata": {},
   "outputs": [
    {
     "name": "stdout",
     "output_type": "stream",
     "text": [
      "0.8952668680765358\n"
     ]
    }
   ],
   "source": [
    "clf = RandomForestClassifier(n_estimators=10,max_depth=2, random_state=0)\n",
    "clf.fit(x_t, y_t)\n",
    "print(clf.score(x_v, y_v))"
   ]
  },
  {
   "cell_type": "code",
   "execution_count": 31,
   "id": "fb22a84a",
   "metadata": {},
   "outputs": [
    {
     "name": "stdout",
     "output_type": "stream",
     "text": [
      "Score of Histogram-based Gradient Boosting Regression Tree:  1.0\n"
     ]
    }
   ],
   "source": [
    "hgb = HistGradientBoostingClassifier()\n",
    "hgb.fit(x_t, y_t)\n",
    "ls_preds = hgb.predict(x_v)\n",
    "print('Score of Histogram-based Gradient Boosting Regression Tree: ', hgb.score(x_v,y_v))"
   ]
  },
  {
   "cell_type": "code",
   "execution_count": 32,
   "id": "01df5ba1",
   "metadata": {},
   "outputs": [
    {
     "name": "stdout",
     "output_type": "stream",
     "text": [
      "LR-Bagging accuracy: 100.0 %\n"
     ]
    }
   ],
   "source": [
    "bagg_clf = BaggingClassifier(base_estimator=LogisticRegression(C=2.0, fit_intercept=True, penalty='l2', tol=0.001), n_estimators=3, random_state=0).fit(x_t, y_t)\n",
    "print(\"LR-Bagging accuracy: \"+str(100*bagg_clf.score(x_v, y_v)), \"%\")"
   ]
  },
  {
   "cell_type": "code",
   "execution_count": 33,
   "id": "5c07323d",
   "metadata": {},
   "outputs": [
    {
     "name": "stdout",
     "output_type": "stream",
     "text": [
      "1 AdaBoost accuracy: 75.57905337361531\n",
      "2 AdaBoost accuracy: 100.0\n",
      "5 AdaBoost accuracy: 100.0\n",
      "10 AdaBoost accuracy: 100.0\n"
     ]
    }
   ],
   "source": [
    "for i in [1,2,5,10]:\n",
    "    a = AdaBoostClassifier(n_estimators=i).fit(x_t, y_t)\n",
    "    print(str(i)+\" AdaBoost accuracy: \"+str(100*(a.score(x_v,y_v))))"
   ]
  },
  {
   "cell_type": "code",
   "execution_count": null,
   "id": "57054d6f",
   "metadata": {},
   "outputs": [],
   "source": []
  },
  {
   "cell_type": "code",
   "execution_count": null,
   "id": "b2a68c9f",
   "metadata": {},
   "outputs": [],
   "source": []
  },
  {
   "cell_type": "markdown",
   "id": "86f032b3",
   "metadata": {},
   "source": [
    "## Hyperparameter Search\n"
   ]
  },
  {
   "cell_type": "markdown",
   "id": "9569984e",
   "metadata": {},
   "source": [
    "We'll search hyperparameters for Logistic Regression and Random Forest Classifier"
   ]
  },
  {
   "cell_type": "code",
   "execution_count": 34,
   "id": "4d69f8c3",
   "metadata": {},
   "outputs": [
    {
     "name": "stdout",
     "output_type": "stream",
     "text": [
      "precision:\n",
      "\n",
      "Best C for LogReg: {'C': 0.2746474114816056} \n",
      "\n",
      "recall:\n",
      "\n",
      "Best C for LogReg: {'C': 0.2746474114816056} \n",
      "\n"
     ]
    }
   ],
   "source": [
    "#search for the LogReg\n",
    "\n",
    "cs = np.logspace(-6,.5 ,50)\n",
    "C = [{\"C\": cs}]\n",
    "scores = [\"precision\", \"recall\"]\n",
    "mean_score = []\n",
    "best_score = []\n",
    "\n",
    "for score in scores:\n",
    "    print(\"%s:\\n\" % score)\n",
    "\n",
    "    GSCV = GridSearchCV(LogisticRegression(fit_intercept=True, penalty='l2', tol=0.001), C, scoring=\"%s_macro\" % score)\n",
    "    GSCV.fit(x_t, y_t)\n",
    "\n",
    "\n",
    "    print(\"Best C for LogReg:\", GSCV.best_params_, \"\\n\")\n",
    "    best_score.append(GSCV.best_params_['C'])\n",
    "\n",
    "    mean = GSCV.cv_results_[\"mean_test_score\"]\n",
    "    mean_score.append(mean)\n",
    "    "
   ]
  },
  {
   "cell_type": "code",
   "execution_count": 35,
   "id": "a660b572",
   "metadata": {},
   "outputs": [
    {
     "data": {
      "image/png": "[encoded data removed]",
      "text/plain": [
       "<Figure size 432x288 with 1 Axes>"
      ]
     },
     "metadata": {
      "needs_background": "light"
     },
     "output_type": "display_data"
    }
   ],
   "source": [
    "# plot to visualize ideal C\n",
    "\n",
    "fig = plt.figure()\n",
    "plt.plot(cs, mean_score[0], \"o--\", label=\"precision\", color=\"green\")\n",
    "plt.plot(cs, mean_score[1], \"o--\", label=\"recall\", color=\"blue\")\n",
    "plt.xscale(\"log\")\n",
    "plt.axis('tight')\n",
    "plt.xlabel('Value of C')\n",
    "plt.axvline(x=best_score[1], color='black', label='best C')\n",
    "\n",
    "plt.legend()\n",
    "plt.show()"
   ]
  },
  {
   "cell_type": "code",
   "execution_count": 36,
   "id": "1ca4b41b",
   "metadata": {},
   "outputs": [
    {
     "name": "stdout",
     "output_type": "stream",
     "text": [
      "Error mnimized: 0.012084592145015106 at Trees = 4 with accuracy: 98.79154078549848\n"
     ]
    },
    {
     "data": {
      "image/png": "[encoded data removed]",
      "text/plain": [
       "<Figure size 432x288 with 1 Axes>"
      ]
     },
     "metadata": {
      "needs_background": "light"
     },
     "output_type": "display_data"
    }
   ],
   "source": [
    "#Random forest Hyperparameter search (with max_depth = 2)\n",
    "error = []\n",
    "accuracy = []\n",
    "for i in range(1,50):\n",
    "    rf = RandomForestClassifier(n_estimators=i,max_depth=2)\n",
    "    rf.fit(x_t,y_t)\n",
    "    i_pred = rf.predict(x_t)\n",
    "    error.append(np.mean(i_pred != y_t))\n",
    "    accuracy.append(metrics.accuracy_score(y_t, i_pred))\n",
    "    \n",
    "plt.figure()\n",
    "plt.plot(range(1,50), error, 'o--', color='blue')\n",
    "plt.xlabel('Trees')\n",
    "plt.ylabel('Error')\n",
    "\n",
    "print(\"Error mnimized:\", min(error),\"at Trees =\", error.index(min(error))+1, \"with accuracy:\", accuracy[error.index(min(error))]*100)"
   ]
  },
  {
   "cell_type": "code",
   "execution_count": 37,
   "id": "9db63e86",
   "metadata": {},
   "outputs": [
    {
     "name": "stdout",
     "output_type": "stream",
     "text": [
      "Error minimized: 0.0 at Trees = 7 with accuracy: 100.0\n"
     ]
    },
    {
     "data": {
      "image/png": "[encoded data removed]",
      "text/plain": [
       "<Figure size 432x288 with 1 Axes>"
      ]
     },
     "metadata": {
      "needs_background": "light"
     },
     "output_type": "display_data"
    }
   ],
   "source": [
    "#Random forest Hyperparameter search (with max_depth = 10)\n",
    "error = []\n",
    "accuracy = []\n",
    "for i in range(1,10):\n",
    "    rf = RandomForestClassifier(n_estimators=i,max_depth=10)\n",
    "    rf.fit(x_t,y_t)\n",
    "    i_pred = rf.predict(x_t)\n",
    "    error.append(np.mean(i_pred != y_t))\n",
    "    accuracy.append(metrics.accuracy_score(y_t, i_pred))\n",
    "    \n",
    "plt.figure()\n",
    "plt.plot(range(1,10), error, 'o--', color='blue')\n",
    "plt.xlabel('Trees')\n",
    "plt.ylabel('Error')\n",
    "\n",
    "print(\"Error minimized:\", min(error),\"at Trees =\", error.index(min(error))+1, \"with accuracy:\", accuracy[error.index(min(error))]*100)"
   ]
  }
 ],
 "metadata": {
  "kernelspec": {
   "display_name": "Python 3 (ipykernel)",
   "language": "python",
   "name": "python3"
  },
  "language_info": {
   "codemirror_mode": {
    "name": "ipython",
    "version": 3
   },
   "file_extension": ".py",
   "mimetype": "text/x-python",
   "name": "python",
   "nbconvert_exporter": "python",
   "pygments_lexer": "ipython3",
   "version": "3.7.6"
  }
 },
 "nbformat": 4,
 "nbformat_minor": 5
}
